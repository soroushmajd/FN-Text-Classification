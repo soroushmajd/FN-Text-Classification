{
  "cells": [
    {
      "cell_type": "code",
      "execution_count": null,
      "metadata": {
        "colab": {
          "base_uri": "https://localhost:8080/"
        },
        "id": "zyALBlNeBNOL",
        "outputId": "b4bbecf7-ade1-485a-86d5-8444352ae04f"
      },
      "outputs": [
        {
          "name": "stdout",
          "output_type": "stream",
          "text": [
            "Drive already mounted at /content/drive; to attempt to forcibly remount, call drive.mount(\"/content/drive\", force_remount=True).\n"
          ]
        }
      ],
      "source": [
        "from google.colab import drive\n",
        "drive.mount('/content/drive')"
      ]
    },
    {
      "cell_type": "code",
      "execution_count": null,
      "metadata": {
        "id": "qzvzku9yQqGC"
      },
      "outputs": [],
      "source": [
        "import matplotlib.pyplot as plt\n",
        "import os\n",
        "import re\n",
        "import shutil\n",
        "import string\n",
        "import tensorflow as tf\n",
        "from tensorflow.keras import regularizers\n",
        "\n",
        "from tensorflow.keras import layers\n",
        "from tensorflow.keras import losses\n",
        "\n",
        "from collections import Counter\n",
        "\n",
        "\n",
        "import pandas as pd\n",
        "import numpy as np\n",
        "\n",
        "from sklearn.preprocessing import LabelEncoder\n",
        "from sklearn.model_selection import train_test_split\n",
        "from sklearn.metrics import classification_report\n",
        "\n",
        "from tensorflow.keras import preprocessing\n",
        "from tensorflow.keras.preprocessing.text import Tokenizer\n",
        "from tensorflow.keras.preprocessing.sequence import pad_sequences\n",
        "\n",
        "\n",
        "\n",
        "\n",
        "import pydot"
      ]
    },
    {
      "cell_type": "markdown",
      "metadata": {
        "id": "XPwQjtjDQqGF"
      },
      "source": [
        "Let us define methods to pre-process the tweets"
      ]
    },
    {
      "cell_type": "code",
      "execution_count": null,
      "metadata": {
        "id": "eeio2bOdQqGF"
      },
      "outputs": [],
      "source": [
        "def remove_emoji(text):\n",
        "    emoji_pattern = re.compile(\"[\"\n",
        "                           u\"\\U0001F600-\\U0001F64F\"  # emoticons\n",
        "                           u\"\\U0001F300-\\U0001F5FF\"  # symbols & pictographs\n",
        "                           u\"\\U0001F680-\\U0001F6FF\"  # transport & map symbols\n",
        "                           u\"\\U0001F1E0-\\U0001F1FF\"  # flags (iOS)\n",
        "                           u\"\\U00002702-\\U000027B0\"\n",
        "                           u\"\\U000024C2-\\U0001F251\"\n",
        "                           \"]+\", flags=re.UNICODE)\n",
        "    return emoji_pattern.sub(r'', text)\n",
        "\n",
        "def remove_url(text): \n",
        "    url_pattern  = re.compile('http[s]?://(?:[a-zA-Z]|[0-9]|[$-_@.&+]|[!*\\(\\),]|(?:%[0-9a-fA-F][0-9a-fA-F]))+')\n",
        "    return url_pattern.sub(r'', text)\n",
        " # converting return value from list to string\n",
        "\n",
        "\n",
        "\n",
        "def clean_text(text ): \n",
        "    delete_dict = {sp_character: '' for sp_character in string.punctuation} \n",
        "    delete_dict[' '] = ' ' \n",
        "    table = str.maketrans(delete_dict)\n",
        "    text1 = text.translate(table)\n",
        "    #print('cleaned:'+text1)\n",
        "    textArr= text1.split()\n",
        "    text2 = ' '.join([w for w in textArr if ( not w.isdigit() and  ( not w.isdigit() and len(w)>2))]) \n",
        "    \n",
        "    return text2.lower()\n",
        "\n"
      ]
    },
    {
      "cell_type": "code",
      "execution_count": null,
      "metadata": {
        "colab": {
          "base_uri": "https://localhost:8080/",
          "height": 424
        },
        "id": "9L3cPcrsTEaT",
        "outputId": "c7ff7a9f-5810-4786-b9d8-92238347d13c"
      },
      "outputs": [
        {
          "data": {
            "text/html": [
              "\n",
              "  <div id=\"df-17b93a51-09b1-49b9-a566-eb2c0f9ad903\">\n",
              "    <div class=\"colab-df-container\">\n",
              "      <div>\n",
              "<style scoped>\n",
              "    .dataframe tbody tr th:only-of-type {\n",
              "        vertical-align: middle;\n",
              "    }\n",
              "\n",
              "    .dataframe tbody tr th {\n",
              "        vertical-align: top;\n",
              "    }\n",
              "\n",
              "    .dataframe thead th {\n",
              "        text-align: right;\n",
              "    }\n",
              "</style>\n",
              "<table border=\"1\" class=\"dataframe\">\n",
              "  <thead>\n",
              "    <tr style=\"text-align: right;\">\n",
              "      <th></th>\n",
              "      <th>Unnamed: 0</th>\n",
              "      <th>title</th>\n",
              "      <th>text</th>\n",
              "      <th>label</th>\n",
              "    </tr>\n",
              "  </thead>\n",
              "  <tbody>\n",
              "    <tr>\n",
              "      <th>0</th>\n",
              "      <td>0</td>\n",
              "      <td>LAW ENFORCEMENT ON HIGH ALERT Following Threat...</td>\n",
              "      <td>No comment is expected from Barack Obama Membe...</td>\n",
              "      <td>1</td>\n",
              "    </tr>\n",
              "    <tr>\n",
              "      <th>1</th>\n",
              "      <td>1</td>\n",
              "      <td>NaN</td>\n",
              "      <td>Did they post their votes for Hillary already?</td>\n",
              "      <td>1</td>\n",
              "    </tr>\n",
              "    <tr>\n",
              "      <th>2</th>\n",
              "      <td>2</td>\n",
              "      <td>UNBELIEVABLE! OBAMA’S ATTORNEY GENERAL SAYS MO...</td>\n",
              "      <td>Now, most of the demonstrators gathered last ...</td>\n",
              "      <td>1</td>\n",
              "    </tr>\n",
              "    <tr>\n",
              "      <th>3</th>\n",
              "      <td>3</td>\n",
              "      <td>Bobby Jindal, raised Hindu, uses story of Chri...</td>\n",
              "      <td>A dozen politically active pastors came here f...</td>\n",
              "      <td>0</td>\n",
              "    </tr>\n",
              "    <tr>\n",
              "      <th>4</th>\n",
              "      <td>4</td>\n",
              "      <td>SATAN 2: Russia unvelis an image of its terrif...</td>\n",
              "      <td>The RS-28 Sarmat missile, dubbed Satan 2, will...</td>\n",
              "      <td>1</td>\n",
              "    </tr>\n",
              "    <tr>\n",
              "      <th>...</th>\n",
              "      <td>...</td>\n",
              "      <td>...</td>\n",
              "      <td>...</td>\n",
              "      <td>...</td>\n",
              "    </tr>\n",
              "    <tr>\n",
              "      <th>72129</th>\n",
              "      <td>72129</td>\n",
              "      <td>Russians steal research on Trump in hack of U....</td>\n",
              "      <td>WASHINGTON (Reuters) - Hackers believed to be ...</td>\n",
              "      <td>0</td>\n",
              "    </tr>\n",
              "    <tr>\n",
              "      <th>72130</th>\n",
              "      <td>72130</td>\n",
              "      <td>WATCH: Giuliani Demands That Democrats Apolog...</td>\n",
              "      <td>You know, because in fantasyland Republicans n...</td>\n",
              "      <td>1</td>\n",
              "    </tr>\n",
              "    <tr>\n",
              "      <th>72131</th>\n",
              "      <td>72131</td>\n",
              "      <td>Migrants Refuse To Leave Train At Refugee Camp...</td>\n",
              "      <td>Migrants Refuse To Leave Train At Refugee Camp...</td>\n",
              "      <td>0</td>\n",
              "    </tr>\n",
              "    <tr>\n",
              "      <th>72132</th>\n",
              "      <td>72132</td>\n",
              "      <td>Trump tussle gives unpopular Mexican leader mu...</td>\n",
              "      <td>MEXICO CITY (Reuters) - Donald Trump’s combati...</td>\n",
              "      <td>0</td>\n",
              "    </tr>\n",
              "    <tr>\n",
              "      <th>72133</th>\n",
              "      <td>72133</td>\n",
              "      <td>Goldman Sachs Endorses Hillary Clinton For Pre...</td>\n",
              "      <td>Goldman Sachs Endorses Hillary Clinton For Pre...</td>\n",
              "      <td>1</td>\n",
              "    </tr>\n",
              "  </tbody>\n",
              "</table>\n",
              "<p>72134 rows × 4 columns</p>\n",
              "</div>\n",
              "      <button class=\"colab-df-convert\" onclick=\"convertToInteractive('df-17b93a51-09b1-49b9-a566-eb2c0f9ad903')\"\n",
              "              title=\"Convert this dataframe to an interactive table.\"\n",
              "              style=\"display:none;\">\n",
              "        \n",
              "  <svg xmlns=\"http://www.w3.org/2000/svg\" height=\"24px\"viewBox=\"0 0 24 24\"\n",
              "       width=\"24px\">\n",
              "    <path d=\"M0 0h24v24H0V0z\" fill=\"none\"/>\n",
              "    <path d=\"M18.56 5.44l.94 2.06.94-2.06 2.06-.94-2.06-.94-.94-2.06-.94 2.06-2.06.94zm-11 1L8.5 8.5l.94-2.06 2.06-.94-2.06-.94L8.5 2.5l-.94 2.06-2.06.94zm10 10l.94 2.06.94-2.06 2.06-.94-2.06-.94-.94-2.06-.94 2.06-2.06.94z\"/><path d=\"M17.41 7.96l-1.37-1.37c-.4-.4-.92-.59-1.43-.59-.52 0-1.04.2-1.43.59L10.3 9.45l-7.72 7.72c-.78.78-.78 2.05 0 2.83L4 21.41c.39.39.9.59 1.41.59.51 0 1.02-.2 1.41-.59l7.78-7.78 2.81-2.81c.8-.78.8-2.07 0-2.86zM5.41 20L4 18.59l7.72-7.72 1.47 1.35L5.41 20z\"/>\n",
              "  </svg>\n",
              "      </button>\n",
              "      \n",
              "  <style>\n",
              "    .colab-df-container {\n",
              "      display:flex;\n",
              "      flex-wrap:wrap;\n",
              "      gap: 12px;\n",
              "    }\n",
              "\n",
              "    .colab-df-convert {\n",
              "      background-color: #E8F0FE;\n",
              "      border: none;\n",
              "      border-radius: 50%;\n",
              "      cursor: pointer;\n",
              "      display: none;\n",
              "      fill: #1967D2;\n",
              "      height: 32px;\n",
              "      padding: 0 0 0 0;\n",
              "      width: 32px;\n",
              "    }\n",
              "\n",
              "    .colab-df-convert:hover {\n",
              "      background-color: #E2EBFA;\n",
              "      box-shadow: 0px 1px 2px rgba(60, 64, 67, 0.3), 0px 1px 3px 1px rgba(60, 64, 67, 0.15);\n",
              "      fill: #174EA6;\n",
              "    }\n",
              "\n",
              "    [theme=dark] .colab-df-convert {\n",
              "      background-color: #3B4455;\n",
              "      fill: #D2E3FC;\n",
              "    }\n",
              "\n",
              "    [theme=dark] .colab-df-convert:hover {\n",
              "      background-color: #434B5C;\n",
              "      box-shadow: 0px 1px 3px 1px rgba(0, 0, 0, 0.15);\n",
              "      filter: drop-shadow(0px 1px 2px rgba(0, 0, 0, 0.3));\n",
              "      fill: #FFFFFF;\n",
              "    }\n",
              "  </style>\n",
              "\n",
              "      <script>\n",
              "        const buttonEl =\n",
              "          document.querySelector('#df-17b93a51-09b1-49b9-a566-eb2c0f9ad903 button.colab-df-convert');\n",
              "        buttonEl.style.display =\n",
              "          google.colab.kernel.accessAllowed ? 'block' : 'none';\n",
              "\n",
              "        async function convertToInteractive(key) {\n",
              "          const element = document.querySelector('#df-17b93a51-09b1-49b9-a566-eb2c0f9ad903');\n",
              "          const dataTable =\n",
              "            await google.colab.kernel.invokeFunction('convertToInteractive',\n",
              "                                                     [key], {});\n",
              "          if (!dataTable) return;\n",
              "\n",
              "          const docLinkHtml = 'Like what you see? Visit the ' +\n",
              "            '<a target=\"_blank\" href=https://colab.research.google.com/notebooks/data_table.ipynb>data table notebook</a>'\n",
              "            + ' to learn more about interactive tables.';\n",
              "          element.innerHTML = '';\n",
              "          dataTable['output_type'] = 'display_data';\n",
              "          await google.colab.output.renderOutput(dataTable, element);\n",
              "          const docLink = document.createElement('div');\n",
              "          docLink.innerHTML = docLinkHtml;\n",
              "          element.appendChild(docLink);\n",
              "        }\n",
              "      </script>\n",
              "    </div>\n",
              "  </div>\n",
              "  "
            ],
            "text/plain": [
              "       Unnamed: 0                                              title  \\\n",
              "0               0  LAW ENFORCEMENT ON HIGH ALERT Following Threat...   \n",
              "1               1                                                NaN   \n",
              "2               2  UNBELIEVABLE! OBAMA’S ATTORNEY GENERAL SAYS MO...   \n",
              "3               3  Bobby Jindal, raised Hindu, uses story of Chri...   \n",
              "4               4  SATAN 2: Russia unvelis an image of its terrif...   \n",
              "...           ...                                                ...   \n",
              "72129       72129  Russians steal research on Trump in hack of U....   \n",
              "72130       72130   WATCH: Giuliani Demands That Democrats Apolog...   \n",
              "72131       72131  Migrants Refuse To Leave Train At Refugee Camp...   \n",
              "72132       72132  Trump tussle gives unpopular Mexican leader mu...   \n",
              "72133       72133  Goldman Sachs Endorses Hillary Clinton For Pre...   \n",
              "\n",
              "                                                    text  label  \n",
              "0      No comment is expected from Barack Obama Membe...      1  \n",
              "1         Did they post their votes for Hillary already?      1  \n",
              "2       Now, most of the demonstrators gathered last ...      1  \n",
              "3      A dozen politically active pastors came here f...      0  \n",
              "4      The RS-28 Sarmat missile, dubbed Satan 2, will...      1  \n",
              "...                                                  ...    ...  \n",
              "72129  WASHINGTON (Reuters) - Hackers believed to be ...      0  \n",
              "72130  You know, because in fantasyland Republicans n...      1  \n",
              "72131  Migrants Refuse To Leave Train At Refugee Camp...      0  \n",
              "72132  MEXICO CITY (Reuters) - Donald Trump’s combati...      0  \n",
              "72133  Goldman Sachs Endorses Hillary Clinton For Pre...      1  \n",
              "\n",
              "[72134 rows x 4 columns]"
            ]
          },
          "execution_count": 20,
          "metadata": {},
          "output_type": "execute_result"
        }
      ],
      "source": [
        "df = pd.read_csv('/content/drive/MyDrive/...csv')\n",
        "#df = df.sample(frac = 1)\n",
        "\n",
        "df"
      ]
    },
    {
      "cell_type": "code",
      "execution_count": null,
      "metadata": {
        "colab": {
          "base_uri": "https://localhost:8080/",
          "height": 380
        },
        "id": "CjaNc5OtS6ZL",
        "outputId": "95a7a2f1-b68d-4f46-fafd-4cc1a26be31f"
      },
      "outputs": [
        {
          "ename": "FileNotFoundError",
          "evalue": "ignored",
          "output_type": "error",
          "traceback": [
            "\u001b[0;31m---------------------------------------------------------------------------\u001b[0m",
            "\u001b[0;31mFileNotFoundError\u001b[0m                         Traceback (most recent call last)",
            "\u001b[0;32m<ipython-input-7-9dd1e12bfe04>\u001b[0m in \u001b[0;36m<module>\u001b[0;34m()\u001b[0m\n\u001b[0;32m----> 1\u001b[0;31m \u001b[0mdf\u001b[0m \u001b[0;34m=\u001b[0m \u001b[0mpd\u001b[0m\u001b[0;34m.\u001b[0m\u001b[0mread_csv\u001b[0m\u001b[0;34m(\u001b[0m\u001b[0;34m'/content/reviewsfinalupdated.csv'\u001b[0m\u001b[0;34m)\u001b[0m\u001b[0;34m\u001b[0m\u001b[0;34m\u001b[0m\u001b[0m\n\u001b[0m\u001b[1;32m      2\u001b[0m \u001b[0mdf\u001b[0m \u001b[0;34m=\u001b[0m \u001b[0mdf\u001b[0m\u001b[0;34m.\u001b[0m\u001b[0msample\u001b[0m\u001b[0;34m(\u001b[0m\u001b[0mfrac\u001b[0m \u001b[0;34m=\u001b[0m \u001b[0;36m1\u001b[0m\u001b[0;34m)\u001b[0m\u001b[0;34m\u001b[0m\u001b[0;34m\u001b[0m\u001b[0m\n\u001b[1;32m      3\u001b[0m \u001b[0;34m\u001b[0m\u001b[0m\n\u001b[1;32m      4\u001b[0m \u001b[0mmsk\u001b[0m \u001b[0;34m=\u001b[0m \u001b[0mnp\u001b[0m\u001b[0;34m.\u001b[0m\u001b[0mrandom\u001b[0m\u001b[0;34m.\u001b[0m\u001b[0mrand\u001b[0m\u001b[0;34m(\u001b[0m\u001b[0mlen\u001b[0m\u001b[0;34m(\u001b[0m\u001b[0mdf\u001b[0m\u001b[0;34m)\u001b[0m\u001b[0;34m)\u001b[0m \u001b[0;34m<=\u001b[0m \u001b[0;36m0.8\u001b[0m\u001b[0;34m\u001b[0m\u001b[0;34m\u001b[0m\u001b[0m\n\u001b[1;32m      5\u001b[0m \u001b[0;34m\u001b[0m\u001b[0m\n",
            "\u001b[0;32m/usr/local/lib/python3.7/dist-packages/pandas/util/_decorators.py\u001b[0m in \u001b[0;36mwrapper\u001b[0;34m(*args, **kwargs)\u001b[0m\n\u001b[1;32m    309\u001b[0m                     \u001b[0mstacklevel\u001b[0m\u001b[0;34m=\u001b[0m\u001b[0mstacklevel\u001b[0m\u001b[0;34m,\u001b[0m\u001b[0;34m\u001b[0m\u001b[0;34m\u001b[0m\u001b[0m\n\u001b[1;32m    310\u001b[0m                 )\n\u001b[0;32m--> 311\u001b[0;31m             \u001b[0;32mreturn\u001b[0m \u001b[0mfunc\u001b[0m\u001b[0;34m(\u001b[0m\u001b[0;34m*\u001b[0m\u001b[0margs\u001b[0m\u001b[0;34m,\u001b[0m \u001b[0;34m**\u001b[0m\u001b[0mkwargs\u001b[0m\u001b[0;34m)\u001b[0m\u001b[0;34m\u001b[0m\u001b[0;34m\u001b[0m\u001b[0m\n\u001b[0m\u001b[1;32m    312\u001b[0m \u001b[0;34m\u001b[0m\u001b[0m\n\u001b[1;32m    313\u001b[0m         \u001b[0;32mreturn\u001b[0m \u001b[0mwrapper\u001b[0m\u001b[0;34m\u001b[0m\u001b[0;34m\u001b[0m\u001b[0m\n",
            "\u001b[0;32m/usr/local/lib/python3.7/dist-packages/pandas/io/parsers/readers.py\u001b[0m in \u001b[0;36mread_csv\u001b[0;34m(filepath_or_buffer, sep, delimiter, header, names, index_col, usecols, squeeze, prefix, mangle_dupe_cols, dtype, engine, converters, true_values, false_values, skipinitialspace, skiprows, skipfooter, nrows, na_values, keep_default_na, na_filter, verbose, skip_blank_lines, parse_dates, infer_datetime_format, keep_date_col, date_parser, dayfirst, cache_dates, iterator, chunksize, compression, thousands, decimal, lineterminator, quotechar, quoting, doublequote, escapechar, comment, encoding, encoding_errors, dialect, error_bad_lines, warn_bad_lines, on_bad_lines, delim_whitespace, low_memory, memory_map, float_precision, storage_options)\u001b[0m\n\u001b[1;32m    584\u001b[0m     \u001b[0mkwds\u001b[0m\u001b[0;34m.\u001b[0m\u001b[0mupdate\u001b[0m\u001b[0;34m(\u001b[0m\u001b[0mkwds_defaults\u001b[0m\u001b[0;34m)\u001b[0m\u001b[0;34m\u001b[0m\u001b[0;34m\u001b[0m\u001b[0m\n\u001b[1;32m    585\u001b[0m \u001b[0;34m\u001b[0m\u001b[0m\n\u001b[0;32m--> 586\u001b[0;31m     \u001b[0;32mreturn\u001b[0m \u001b[0m_read\u001b[0m\u001b[0;34m(\u001b[0m\u001b[0mfilepath_or_buffer\u001b[0m\u001b[0;34m,\u001b[0m \u001b[0mkwds\u001b[0m\u001b[0;34m)\u001b[0m\u001b[0;34m\u001b[0m\u001b[0;34m\u001b[0m\u001b[0m\n\u001b[0m\u001b[1;32m    587\u001b[0m \u001b[0;34m\u001b[0m\u001b[0m\n\u001b[1;32m    588\u001b[0m \u001b[0;34m\u001b[0m\u001b[0m\n",
            "\u001b[0;32m/usr/local/lib/python3.7/dist-packages/pandas/io/parsers/readers.py\u001b[0m in \u001b[0;36m_read\u001b[0;34m(filepath_or_buffer, kwds)\u001b[0m\n\u001b[1;32m    480\u001b[0m \u001b[0;34m\u001b[0m\u001b[0m\n\u001b[1;32m    481\u001b[0m     \u001b[0;31m# Create the parser.\u001b[0m\u001b[0;34m\u001b[0m\u001b[0;34m\u001b[0m\u001b[0;34m\u001b[0m\u001b[0m\n\u001b[0;32m--> 482\u001b[0;31m     \u001b[0mparser\u001b[0m \u001b[0;34m=\u001b[0m \u001b[0mTextFileReader\u001b[0m\u001b[0;34m(\u001b[0m\u001b[0mfilepath_or_buffer\u001b[0m\u001b[0;34m,\u001b[0m \u001b[0;34m**\u001b[0m\u001b[0mkwds\u001b[0m\u001b[0;34m)\u001b[0m\u001b[0;34m\u001b[0m\u001b[0;34m\u001b[0m\u001b[0m\n\u001b[0m\u001b[1;32m    483\u001b[0m \u001b[0;34m\u001b[0m\u001b[0m\n\u001b[1;32m    484\u001b[0m     \u001b[0;32mif\u001b[0m \u001b[0mchunksize\u001b[0m \u001b[0;32mor\u001b[0m \u001b[0miterator\u001b[0m\u001b[0;34m:\u001b[0m\u001b[0;34m\u001b[0m\u001b[0;34m\u001b[0m\u001b[0m\n",
            "\u001b[0;32m/usr/local/lib/python3.7/dist-packages/pandas/io/parsers/readers.py\u001b[0m in \u001b[0;36m__init__\u001b[0;34m(self, f, engine, **kwds)\u001b[0m\n\u001b[1;32m    809\u001b[0m             \u001b[0mself\u001b[0m\u001b[0;34m.\u001b[0m\u001b[0moptions\u001b[0m\u001b[0;34m[\u001b[0m\u001b[0;34m\"has_index_names\"\u001b[0m\u001b[0;34m]\u001b[0m \u001b[0;34m=\u001b[0m \u001b[0mkwds\u001b[0m\u001b[0;34m[\u001b[0m\u001b[0;34m\"has_index_names\"\u001b[0m\u001b[0;34m]\u001b[0m\u001b[0;34m\u001b[0m\u001b[0;34m\u001b[0m\u001b[0m\n\u001b[1;32m    810\u001b[0m \u001b[0;34m\u001b[0m\u001b[0m\n\u001b[0;32m--> 811\u001b[0;31m         \u001b[0mself\u001b[0m\u001b[0;34m.\u001b[0m\u001b[0m_engine\u001b[0m \u001b[0;34m=\u001b[0m \u001b[0mself\u001b[0m\u001b[0;34m.\u001b[0m\u001b[0m_make_engine\u001b[0m\u001b[0;34m(\u001b[0m\u001b[0mself\u001b[0m\u001b[0;34m.\u001b[0m\u001b[0mengine\u001b[0m\u001b[0;34m)\u001b[0m\u001b[0;34m\u001b[0m\u001b[0;34m\u001b[0m\u001b[0m\n\u001b[0m\u001b[1;32m    812\u001b[0m \u001b[0;34m\u001b[0m\u001b[0m\n\u001b[1;32m    813\u001b[0m     \u001b[0;32mdef\u001b[0m \u001b[0mclose\u001b[0m\u001b[0;34m(\u001b[0m\u001b[0mself\u001b[0m\u001b[0;34m)\u001b[0m\u001b[0;34m:\u001b[0m\u001b[0;34m\u001b[0m\u001b[0;34m\u001b[0m\u001b[0m\n",
            "\u001b[0;32m/usr/local/lib/python3.7/dist-packages/pandas/io/parsers/readers.py\u001b[0m in \u001b[0;36m_make_engine\u001b[0;34m(self, engine)\u001b[0m\n\u001b[1;32m   1038\u001b[0m             )\n\u001b[1;32m   1039\u001b[0m         \u001b[0;31m# error: Too many arguments for \"ParserBase\"\u001b[0m\u001b[0;34m\u001b[0m\u001b[0;34m\u001b[0m\u001b[0;34m\u001b[0m\u001b[0m\n\u001b[0;32m-> 1040\u001b[0;31m         \u001b[0;32mreturn\u001b[0m \u001b[0mmapping\u001b[0m\u001b[0;34m[\u001b[0m\u001b[0mengine\u001b[0m\u001b[0;34m]\u001b[0m\u001b[0;34m(\u001b[0m\u001b[0mself\u001b[0m\u001b[0;34m.\u001b[0m\u001b[0mf\u001b[0m\u001b[0;34m,\u001b[0m \u001b[0;34m**\u001b[0m\u001b[0mself\u001b[0m\u001b[0;34m.\u001b[0m\u001b[0moptions\u001b[0m\u001b[0;34m)\u001b[0m  \u001b[0;31m# type: ignore[call-arg]\u001b[0m\u001b[0;34m\u001b[0m\u001b[0;34m\u001b[0m\u001b[0m\n\u001b[0m\u001b[1;32m   1041\u001b[0m \u001b[0;34m\u001b[0m\u001b[0m\n\u001b[1;32m   1042\u001b[0m     \u001b[0;32mdef\u001b[0m \u001b[0m_failover_to_python\u001b[0m\u001b[0;34m(\u001b[0m\u001b[0mself\u001b[0m\u001b[0;34m)\u001b[0m\u001b[0;34m:\u001b[0m\u001b[0;34m\u001b[0m\u001b[0;34m\u001b[0m\u001b[0m\n",
            "\u001b[0;32m/usr/local/lib/python3.7/dist-packages/pandas/io/parsers/c_parser_wrapper.py\u001b[0m in \u001b[0;36m__init__\u001b[0;34m(self, src, **kwds)\u001b[0m\n\u001b[1;32m     49\u001b[0m \u001b[0;34m\u001b[0m\u001b[0m\n\u001b[1;32m     50\u001b[0m         \u001b[0;31m# open handles\u001b[0m\u001b[0;34m\u001b[0m\u001b[0;34m\u001b[0m\u001b[0;34m\u001b[0m\u001b[0m\n\u001b[0;32m---> 51\u001b[0;31m         \u001b[0mself\u001b[0m\u001b[0;34m.\u001b[0m\u001b[0m_open_handles\u001b[0m\u001b[0;34m(\u001b[0m\u001b[0msrc\u001b[0m\u001b[0;34m,\u001b[0m \u001b[0mkwds\u001b[0m\u001b[0;34m)\u001b[0m\u001b[0;34m\u001b[0m\u001b[0;34m\u001b[0m\u001b[0m\n\u001b[0m\u001b[1;32m     52\u001b[0m         \u001b[0;32massert\u001b[0m \u001b[0mself\u001b[0m\u001b[0;34m.\u001b[0m\u001b[0mhandles\u001b[0m \u001b[0;32mis\u001b[0m \u001b[0;32mnot\u001b[0m \u001b[0;32mNone\u001b[0m\u001b[0;34m\u001b[0m\u001b[0;34m\u001b[0m\u001b[0m\n\u001b[1;32m     53\u001b[0m \u001b[0;34m\u001b[0m\u001b[0m\n",
            "\u001b[0;32m/usr/local/lib/python3.7/dist-packages/pandas/io/parsers/base_parser.py\u001b[0m in \u001b[0;36m_open_handles\u001b[0;34m(self, src, kwds)\u001b[0m\n\u001b[1;32m    227\u001b[0m             \u001b[0mmemory_map\u001b[0m\u001b[0;34m=\u001b[0m\u001b[0mkwds\u001b[0m\u001b[0;34m.\u001b[0m\u001b[0mget\u001b[0m\u001b[0;34m(\u001b[0m\u001b[0;34m\"memory_map\"\u001b[0m\u001b[0;34m,\u001b[0m \u001b[0;32mFalse\u001b[0m\u001b[0;34m)\u001b[0m\u001b[0;34m,\u001b[0m\u001b[0;34m\u001b[0m\u001b[0;34m\u001b[0m\u001b[0m\n\u001b[1;32m    228\u001b[0m             \u001b[0mstorage_options\u001b[0m\u001b[0;34m=\u001b[0m\u001b[0mkwds\u001b[0m\u001b[0;34m.\u001b[0m\u001b[0mget\u001b[0m\u001b[0;34m(\u001b[0m\u001b[0;34m\"storage_options\"\u001b[0m\u001b[0;34m,\u001b[0m \u001b[0;32mNone\u001b[0m\u001b[0;34m)\u001b[0m\u001b[0;34m,\u001b[0m\u001b[0;34m\u001b[0m\u001b[0;34m\u001b[0m\u001b[0m\n\u001b[0;32m--> 229\u001b[0;31m             \u001b[0merrors\u001b[0m\u001b[0;34m=\u001b[0m\u001b[0mkwds\u001b[0m\u001b[0;34m.\u001b[0m\u001b[0mget\u001b[0m\u001b[0;34m(\u001b[0m\u001b[0;34m\"encoding_errors\"\u001b[0m\u001b[0;34m,\u001b[0m \u001b[0;34m\"strict\"\u001b[0m\u001b[0;34m)\u001b[0m\u001b[0;34m,\u001b[0m\u001b[0;34m\u001b[0m\u001b[0;34m\u001b[0m\u001b[0m\n\u001b[0m\u001b[1;32m    230\u001b[0m         )\n\u001b[1;32m    231\u001b[0m \u001b[0;34m\u001b[0m\u001b[0m\n",
            "\u001b[0;32m/usr/local/lib/python3.7/dist-packages/pandas/io/common.py\u001b[0m in \u001b[0;36mget_handle\u001b[0;34m(path_or_buf, mode, encoding, compression, memory_map, is_text, errors, storage_options)\u001b[0m\n\u001b[1;32m    705\u001b[0m                 \u001b[0mencoding\u001b[0m\u001b[0;34m=\u001b[0m\u001b[0mioargs\u001b[0m\u001b[0;34m.\u001b[0m\u001b[0mencoding\u001b[0m\u001b[0;34m,\u001b[0m\u001b[0;34m\u001b[0m\u001b[0;34m\u001b[0m\u001b[0m\n\u001b[1;32m    706\u001b[0m                 \u001b[0merrors\u001b[0m\u001b[0;34m=\u001b[0m\u001b[0merrors\u001b[0m\u001b[0;34m,\u001b[0m\u001b[0;34m\u001b[0m\u001b[0;34m\u001b[0m\u001b[0m\n\u001b[0;32m--> 707\u001b[0;31m                 \u001b[0mnewline\u001b[0m\u001b[0;34m=\u001b[0m\u001b[0;34m\"\"\u001b[0m\u001b[0;34m,\u001b[0m\u001b[0;34m\u001b[0m\u001b[0;34m\u001b[0m\u001b[0m\n\u001b[0m\u001b[1;32m    708\u001b[0m             )\n\u001b[1;32m    709\u001b[0m         \u001b[0;32melse\u001b[0m\u001b[0;34m:\u001b[0m\u001b[0;34m\u001b[0m\u001b[0;34m\u001b[0m\u001b[0m\n",
            "\u001b[0;31mFileNotFoundError\u001b[0m: [Errno 2] No such file or directory: '/content/reviewsfinalupdated.csv'"
          ]
        }
      ],
      "source": [
        "df = pd.read_csv('/content/reviewsfinalupdated.csv')\n",
        "df = df.sample(frac = 1)\n",
        "\n",
        "msk = np.random.rand(len(df)) <= 0.8\n",
        "\n",
        "train_data = df[msk]\n",
        "test_data = df[~msk]\n",
        "\n",
        "\n",
        "train_data.dropna(axis = 0, how ='any',inplace=True) \n",
        "train_data['Num_words_text'] = train_data['content'].apply(lambda x:len(str(x).split())) \n",
        "mask = train_data['Num_words_text'] >2\n",
        "train_data = train_data[mask]\n",
        "print('-------Train data--------')\n",
        "print(train_data['score'].value_counts())\n",
        "print(len(train_data))\n",
        "print('-------------------------')\n",
        "max_train_sentence_length  = train_data['Num_words_text'].max()\n",
        "print(max_train_sentence_length)\n"
      ]
    },
    {
      "cell_type": "code",
      "execution_count": null,
      "metadata": {
        "colab": {
          "base_uri": "https://localhost:8080/"
        },
        "id": "68suc_tqQqGG",
        "outputId": "24c640d8-f72f-4c54-e7bc-e5b3f9d636ff"
      },
      "outputs": [
        {
          "name": "stderr",
          "output_type": "stream",
          "text": [
            "/usr/local/lib/python3.7/dist-packages/pandas/util/_decorators.py:311: SettingWithCopyWarning: \n",
            "A value is trying to be set on a copy of a slice from a DataFrame\n",
            "\n",
            "See the caveats in the documentation: https://pandas.pydata.org/pandas-docs/stable/user_guide/indexing.html#returning-a-view-versus-a-copy\n",
            "  return func(*args, **kwargs)\n",
            "/usr/local/lib/python3.7/dist-packages/ipykernel_launcher.py:11: SettingWithCopyWarning: \n",
            "A value is trying to be set on a copy of a slice from a DataFrame.\n",
            "Try using .loc[row_indexer,col_indexer] = value instead\n",
            "\n",
            "See the caveats in the documentation: https://pandas.pydata.org/pandas-docs/stable/user_guide/indexing.html#returning-a-view-versus-a-copy\n",
            "  # This is added back by InteractiveShellApp.init_path()\n"
          ]
        },
        {
          "name": "stdout",
          "output_type": "stream",
          "text": [
            "-------Train data--------\n",
            "1    28428\n",
            "0    27945\n",
            "Name: label, dtype: int64\n",
            "56373\n",
            "-------------------------\n"
          ]
        },
        {
          "name": "stderr",
          "output_type": "stream",
          "text": [
            "/usr/local/lib/python3.7/dist-packages/ipykernel_launcher.py:28: SettingWithCopyWarning: \n",
            "A value is trying to be set on a copy of a slice from a DataFrame.\n",
            "Try using .loc[row_indexer,col_indexer] = value instead\n",
            "\n",
            "See the caveats in the documentation: https://pandas.pydata.org/pandas-docs/stable/user_guide/indexing.html#returning-a-view-versus-a-copy\n"
          ]
        },
        {
          "name": "stdout",
          "output_type": "stream",
          "text": [
            "-------Test data--------\n",
            "Killing Obama administration rules, dismantling Obamacare and pushing through tax reform are on the early to-do list.                                                                                                                                                                                                                                                                                                                                                                                                                                                                                                                                                                                                                                                                                                                                                                                                                                                                                                                                                                                                                                                                                                                                                                                                                                                                                                                                                                                                                                                                                                                                                                                                                                                                                                                                                                                                                                                                                                                                                                                                                                                                                                                                                                                                                                                                                                                                                                                                                                                                                                                                                                                                                                                                                                                                                                                                                                                                                                                                                                                                                                                                                                                                                                                                                                                                                                                                                                                                                                                                                                                                                                                                                                                                                                                                                                                                                                                                                                                                                                                                                                                                                                                                                                                                                                                                                                                                                                                                                                                                                                                                                                                                                                                                            14\n",
            "source Add To The Conversation Using Facebook Comments                                                                                                                                                                                                                                                                                                                                                                                                                                                                                                                                                                                                                                                                                                                                                                                                                                                                                                                                                                                                                                                                                                                                                                                                                                                                                                                                                                                                                                                                                                                                                                                                                                                                                                                                                                                                                                                                                                                                                                                                                                                                                                                                                                                                                                                                                                                                                                                                                                                                                                                                                                                                                                                                                                                                                                                                                                                                                                                                                                                                                                                                                                                                                                                                                                                                                                                                                                                                                                                                                                                                                                                                                                                                                                                                                                                                                                                                                                                                                                                                                                                                                                                                                                                                                                                                                                                                                                                                                                                                                                                                                                                                                                                                                                                                            7\n",
            "A verdict in 2017 could have sweeping consequences for tech startups.                                                                                                                                                                                                                                                                                                                                                                                                                                                                                                                                                                                                                                                                                                                                                                                                                                                                                                                                                                                                                                                                                                                                                                                                                                                                                                                                                                                                                                                                                                                                                                                                                                                                                                                                                                                                                                                                                                                                                                                                                                                                                                                                                                                                                                                                                                                                                                                                                                                                                                                                                                                                                                                                                                                                                                                                                                                                                                                                                                                                                                                                                                                                                                                                                                                                                                                                                                                                                                                                                                                                                                                                                                                                                                                                                                                                                                                                                                                                                                                                                                                                                                                                                                                                                                                                                                                                                                                                                                                                                                                                                                                                                                                                                                                             6\n",
            "Click Here To Learn More About Alexandra's Personalized Essences Psychic Protection Click Here for More Information on Psychic Protection! Implant Removal Series Click here to listen to the IRP and SA/DNA Process Read The Testimonials Click Here To Read What Others Are Experiencing! Copyright © 2012 by Galactic Connection. All Rights Reserved. \\nExcerpts may be used, provided that full and clear credit is given to Alexandra Meadors and www.galacticconnection.com with appropriate and specific direction to the original content. Unauthorized use and/or duplication of any material on this website without express and written permission from its author and owner is strictly prohibited. Thank you. \\nPrivacy Policy \\nBy subscribing to GalacticConnection.com you acknowledge that your name and e-mail address will be added to our database. As with all other personal information, only working affiliates of GalacticConnection.com have access to this data. We do not give GalacticConnection.com addresses to outside companies, nor will we ever rent or sell your email address. Any e-mail you send to GalacticConnection.com is completely confidential. Therefore, we will not add your name to our e-mail list without your permission. Continue reading... Galactic Connection 2016 | Design & Development by AA at Superluminal Systems Sign Up forOur Newsletter \\nJoin our newsletter to receive exclusive updates, interviews, discounts, and more. Join Us!                                                                                                                                                                                                                                                                                                                                                                                                                                                                                                                                                                                                                                                                                                                                                                                                                                                                                                                                                                                                                                                                                                                                                                                                                                                                                                                                                                                                                                                                                                                                                                                                                                                                                                                                                                                                                                                                                                                                                                                                                                                                                                                                                                                                                                                                                                                                                                                                                                                                                                                                                                                                                                                                                                                                                                                                                                                                                                                                                                                                                                                                                                                                                                                                                                                                                         5\n",
            "Hillary Clinton Waiting In Wings Of Stage Since 6 A.M. For DNC Speech PHILADELPHIA—Saying she arrived hours before any of the members of the production crew, sources confirmed Thursday that presidential nominee Hillary Clinton has been waiting in the wings of the Wells Fargo Center stage since six o’clock this morning to deliver her speech at the Democratic National Convention. Depressed, Butter-Covered Tom Vilsack Enters Sixth Day Of Corn Bender After Losing VP Spot WASHINGTON—Saying she has grown increasingly concerned about her husband’s mental and physical well-being since last Friday, Christie Vilsack, the wife of Agriculture Secretary Tom Vilsack, told reporters Thursday that the despondent, butter-covered cabinet member has entered the sixth day of a destructive corn bender after being passed over for the Democratic vice presidential spot. DNC Speech: ‘I Am Proud To Say I Walked In On Bill And Hillary Having Sex’ A friend of the Clinton family describes a Hillary who America never gets to see: the one he saw having sex. Trump Sick And Tired Of Mainstream Media Always Trying To Put His Words Into Some Sort Of Context NEW YORK—Emphasizing that the practice was just more evidence of journalists’ bias against him, Republican presidential nominee Donald Trump stated Thursday that he was sick and tired of the mainstream media always attempting to place his words into some kind of context. Who’s Speaking At The DNC: Day 4 Here is a guide to the major speakers who will be addressing attendees on the final night of the 2016 Democratic National Convention Bound, Gagged Joaquin Castro Horrified By What His Identical Twin Brother Might Be Doing Out On DNC Floor PHILADELPHIA—Struggling to free himself from the tightly wound lengths of rope binding his wrists and ankles together, bruised and gagged Texas congressman Joaquin Castro was reportedly horrified by what his identical twin brother, Secretary of Housing and Urban Development Julian Castro, might be out doing on the floor of the DNC Thursday. Obama: ‘Hillary Will Fight To Protect My Legacy, Even The Truly Detestable Parts’ PHILADELPHIA—Emphasizing the former secretary of state’s competence and tenacity during his Democratic National Convention address Wednesday night, President Barack Obama praised Hillary Clinton as someone who would work tirelessly to defend and advance the legacy he had built, even the “truly repugnant parts.” Tim Kaine Clearly Tuning Out In Middle Of Boring Vice Presidential Acceptance Speech PHILADELPHIA—Describing the look of total disinterest on his face and noting how he kept peering down at his watch as the speech progressed, sources at the Democratic National Convention said that Virginia senator Tim Kaine clearly began tuning out partway through the boring vice presidential acceptance address Wednesday night. Cannon Overshoots Tim Kaine Across Wells Fargo Center PHILADELPHIA—Noting that the vice presidential nominee had been launched nearly 100 feet into the air during his entrance into the Democratic National Convention Wednesday night, sources reported that the cannon at the back of the Wells Fargo Center had accidentally overshot Tim Kaine across the arena, sending him crashing to the stage several dozen feet beyond the erected safety net. Biden Regales DNC With Story Of ’80s Girl Band Vixen Breaking Hard Rock’s Glass Ceiling PHILADELPHIA—Devoting a large portion of his speech to the “pioneering, stiffy-inducing” all-female quartet, Vice President Joe Biden regaled the Democratic National Convention Wednesday night with the rousing story of the metal band Vixen breaking hard rock’s glass ceiling in the late 1980s.                                                                                                                                                                                                                                                                                                                                                                                                                                                                                                                                                                                                                                                                                                                                                                                                                                                                                                                                                                                     4\n",
            "                                                                                                                                                                                                                                                                                                                                                                                                                                                                                                                                                                                                                                                                                                                                                                                                                                                                                                                                                                                                                                                                                                                                                                                                                                                                                                                                                                                                                                                                                                                                                                                                                                                                                                                                                                                                                                                                                                                                                                                                                                                                                                                                                                                                                                                                                                                                                                                                                                                                                                                                                                                                                                                                                                                                                                                                                                                                                                                                                                                                                                                                                                                                                                                                                                                                                                                                                                                                                                                                                                                                                                                                                                                                                                                                                                                                                                                                                                                                                                                                                                                                                                                                                                                                                                                                                                                                                                                                                                                                                                                                                                                                                                                                                                                                                                                                 ..\n",
            "Human-Machine Hybrid Organs Are Being Made Now October 26, 2016 \\nHarvard scientists have developed a 3D printed heart on a computer chip, which can be used to study heart conditions without testing medical treatments on animals. The heart-on-chip is composed of a small piece of flexible polymer with integrated sensors that contains living human heart cells , which can mimic the physiological response of a human heart. \\nThe sensors collect data on the beating of the heart-on-chip, which can be used to study how tissue responds to drugs or toxins. \\nScientists from the Wyss Institute at Harvard University believe the technology is a more accurate alternative to testing drugs on animals, and hope it can decrease the number of animals used for testing. \\n“We are pushing the boundaries of three-dimensional printing by developing and integrating multiple functional materials within printed devices,” Jennifer Lewis, senior co-author of the study said in a press release. \\nOther organs, including bones, lungs, the liver, and gut can also be made into organs on a chip. \\nHowever, it is noted that obtaining data from these chips is costly and can only be done using high-speed cameras or microscopy. Article by Doc Burkhart , Vice-President, General Manager and co-host of TRUNEWS with Rick Wiles Got a news tip? Email us at Help support the ministry of TRUNEWS with your one-time or monthly gift of financial support. DONATE NOW ! DOWNLOAD THE TRUNEWS MOBILE APP! CLICK HERE!                                                                                                                                                                                                                                                                                                                                                                                                                                                                                                                                                                                                                                                                                                                                                                                                                                                                                                                                                                                                                                                                                                                                                                                                                                                                                                                                                                                                                                                                                                                                                                                                                                                                                                                                                                                                                                                                                                                                                                                                                                                                                                                                                                                                                                                                                                                                                                                                                                                                                                                                                                                                                                                                                                                                                                                                                                                                                                                                                                                                                                                                                                                                                                                                                                                    1\n",
            "KATHMANDU (Reuters) - Millions of Nepalis vote on Sunday to choose a new parliament and seven state assemblies more than a decade after the end of a civil war. The two-phase election is the first in Nepal since it turned into a federal republic and abolished monarchy in 2008. Here is a chronology of events in the Himalayan country since then: 2008, May 28   Special Constituent Assembly elected in April votes to abolish the 239-year-old monarchy and turns Nepal into a republic. 2008, July 23   The assembly elects Ram Baran Yadav as Nepal s first president. 2008, Aug. 15   Former rebel commander Pushpa Kamal Dahal, also known as Prachanda, is elected as prime minister. He had led a decade-long Maoist civil war that ended two years earlier. 2009, May 4   Prachanda steps down following a row with the president over the sacking of the army chief, leading to political instability in the country. 2010, May 28   The Constituent Assembly extends its term after failing to deliver a new charter within the stipulated period of two years.  2012, May 28   The assembly is dissolved without adopting any constitution amid wrangling among political parties. 2013, Nov 19   A second Constituent Assembly is elected to continue the unfinished task of drafting the charter. 2015, Apr. 25   Worst earthquake on record jolts Nepal, killing 9,000 people and bringing political parties together to adopt the charter and focus on reconstruction. 2015, Sept. 20   The Constituent Assembly approves the new charter, turning Nepal into a secular federal democratic republic. Ethnic Madhesis living in the southern plains reject the new charter, calling it discriminatory. 2015-2016   More than 50 people killed during protests by the Madhesis demanding a unified homeland in their region. Activists block trade points with India leading to crippling fuel and medicine shortages. 2017, May-Sept.   First elections to local bodies in 20 years held. Lawmakers reject a government proposal to amend the constitution to meet some of the demands of the Madhesi minority.                                                                                                                                                                                                                                                                                                                                                                                                                                                                                                                                                                                                                                                                                                                                                                                                                                                                                                                                                                                                                                                                                                                                                                                                                                                                                                                                                                                                                                                                                                                                                                                                                                                                                                                                                                                                                                                                                                                                                                                                                                                                                                                                                                                                                                                                                                                                                                                                                                                                                                                                                                                                                                                             1\n",
            "ROME (Reuters) - National elections are looming and Italy s left seems bent on engineering its own defeat as Democratic Party (PD) leader Matteo Renzi continues to come under fire from potential allies.    The PD emerged badly bruised in a Sicilian regional vote last week, coming in a distant third to a center-right coalition and the anti-establishment 5-Star Movement in a contest that many saw as a dry run for a national election due by May.     Though a weekend poll showed the PD has dropped six percentage points in six months, it remains locked in a three-way race with 5-Star and a center-right coalition that includes four-time Prime Minister Silvio Berlusconi s Forza Italia (Go Italy!). The economy is growing at its fastest pace in seven years and migrant arrivals have fallen dramatically, two factors the ruling PD hopes will help it win over moderate and progressive voters who would never choose Berlusconi and are wary of the untested 5-Star. But a group of left-wing lawmakers who split from the PD earlier this year accuse Renzi of taking the party too far to the right and turning it into his personal fiefdom; and so far they are refusing to make peace.   Former Prime Minister Massimo D Alema, who orchestrated the dramatic schism, never passes up a chance to attack Renzi. Pietro Grasso, the Senate president and a former anti-mafia magistrate who abruptly left the PD last month, quipped that  the PD doesn t exist any more .     The PD and its potential allies could still be key players after the vote if they can only agree to round on their rivals instead of Renzi in the few months left before the election.   The fast-talking 42-year-old Florentine has not made it easy on himself. Just last month he clashed with the most popular member of his own party - Prime Minister Paolo Gentiloni.    Just days before Bank of Italy Governor Ignazio Visco s mandate was to expire, Renzi blindsided Gentiloni with a parliamentary motion inviting the premier not to give the central banker another six-year term.   The PD accused Visco of doing too little to head off banking crises that cost taxpayers up to 23 billion euros ($26.8 billion) this year in salvage operations on sinking lenders.    To defuse a dispute with President Sergio Mattarella, who formally names Bank of Italy chiefs and who backed Visco, Gentiloni ignored Renzi s appeal.     The Visco affair has opened a fault line  in the party, said a PD lawmaker from Sicily who asked not to be named.  Two power systems are squaring off, one outside the current Italian establishment and one inside. Renzi is on the outside.    Using a soccer analogy, a government source and PD member told Reuters the Visco affair revealed Renzi to be increasingly unpredictable.     Three years ago Renzi was the Diego Maradona of Italian politics, the source said, but now he s more like Antonio Cassano, a tantrum-prone Italian soccer star whose volcanic temper caused problems on the field.    Like Maradona, he was a little hard to handle, but it was OK because the team won,  the source said.  But now he s more like Cassano, whose volatile personality offset his talent and hurt his team.    Under the new electoral law, Renzi and other party secretaries will personally pick their candidates for next year s vote. Many inside the PD are not speaking publicly, but the rebels who have split with the party are holding nothing back.  The reunification of the center left requires a change in policy and leadership,  D Alema said last week.  Laura Garavini, a PD lawmaker close to Renzi, told Reuters that tensions within the party persist.     The idea was that after the split they would disappear, but they haven t,  she said.    Another source of tension on the left has been Renzi s agreement with center-right rivals last month to pass a proportional electoral law that favors pre-vote coalitions, angering the PD splinter party that doesn t want to play second fiddle to Renzi.    Senate President Grasso quit the PD hours after the law passed, criticizing Renzi. The PD breakaway party, known as the MDP, is now courting Grasso as their possible leader.   The latest poll had the PD at 24.3 percent, trailing 5-Star that stood at 29.3 percent, while the center-right is pulling 36.5 percent.        If the PD stops its internal bickering... we can win 40 percent,  Renzi said on a TV talk show last week.  That s easier said that done, as the Sicilian lawmaker explains:  In the PD, we re all equally unpleasant to each other. The category of friendship does not exist. Everyone thinks they re smarter than everyone else.       1\n",
            "BRUSSELS  —   The European Parliament has passed a nonbinding resolution calling for the reintroduction of visa requirements for American citizens, raising the stakes in a   battle over the United States’ refusal to grant   access to citizens of five European Union countries. In the vote on Thursday, European lawmakers played    in their dispute with the United States, demanding restrictions on American travelers unless the Trump administration lifts travel requirements for citizens of Bulgaria, Croatia, Cyprus, Poland and Romania. “You’re talking about citizens from countries, like Poland, with a major diaspora” in the United States, Claude Moraes, the British lawmaker who leads the Committee on Civil Liberties, Justice and Home Affairs in the European Parliament, said in a telephone interview on Friday. “You’re really seeing frustration and anger, and without any timetable, this is becoming increasingly seen as   treatment. ” The resolution, while nonbinding, was an important political signal, and it increases pressure on the European Commission, the bloc’s executive body, to confront the new administration in Washington, even though it may prove to be as intransigent on the matter as the Obama administration, if not more. The European Parliament also warned that it could take the further step of bringing the European Commission to court if it continues not to stand up to Washington. “Only when the U. S. fully gets that the European Commission is going to act are we going to get any kind of timetable from the United States,” Mr. Moraes said. “At the moment, the U. S. just believes the commission is not going to act but stick with the pragmatic argument that doing so would create damage that’s just too great. ” He continued, referring to Washington, “There’s no denying heightened concern about the current administration, but that’s more about uncertainty about who’s in charge and how the State Department is working. ” Mr. Moraes said the civil liberties committee could still recommend within two months that a case against the commission’s failure to act be brought to the bloc’s highest tribunal, the Court of Justice of the European Union. “It’s a question of using what options are open to us,” he said, explaining the possible resort to litigation. In the vote on Thursday, the Parliament gave the European Commission two months to take legal measures to impose visas for American travelers to the European Union unless the Americans offered reciprocity to all citizens from the bloc. European officials in Brussels have balked at making travel to Europe more difficult for Americans, saying doing so would have an economic cost and would most likely not even resolve the hurdles facing citizens of the five affected countries. The Parliament’s measure was approved in a show of hands and was not expected to worsen the standoff with the United States. But in the event that the court in Luxembourg were to rule in favor of Parliament, the commission might be forced to impose visa requirements on Americans. The Trump administration, finding itself in a    battle over access, would then almost certainly do the same for travelers from the European Union. In 2014, the European Commission was notified that the United States and four other countries  —   Australia, Brunei, Canada and Japan  —   were failing to provide reciprocal,   travel to citizens of some European Union countries. Australia, Brunei and Japan have resolved differences with the European Union, and an agreement with Canada is expected to take effect in December for all citizens of Bulgaria and Romania, according to a statement from the European Parliament. Margaritis Schinas, the chief spokesman for the commission, appeared to tamp down any expectations that it would impose visa requirements on Americans within two months, as outlined in the Parliament resolution. Instead, he said he advocated “continued engagement and patient diplomatic contacts” with Washington. The commission will issue a progress report on discussions with the United States, he added, but not before the end of June.                                                                                                                                                                                                                                                                                                                                                                                                                                                                                                                    1\n",
            "WASHINGTON (Reuters) - AFL-CIO President Richard Trumka and Deputy Chief of Staff Thea Lee resigned on Tuesday from President Donald Trump’s manufacturing council, slamming his remarks about protests in Virginia and saying he “tolerates bigotry and domestic terrorism.” The statement by the AFL-CIO, the largest federation of labor unions in the United States, cited Trump’s remarks at a news conference earlier Tuesday in which he said both left- and right-wing groups were to blame for violence in Virginia after a white supremacist rally on Saturday. “President Trump’s remarks today repudiate his forced remarks yesterday about the KKK and neo-Nazis. We must resign on behalf of America’s working people, who reject all notions of legitimacy of these bigoted groups,” Trumka and Lee said in a statement.                                                                                                                                                                                                                                                                                                                                                                                                                                                                                                                                                                                                                                                                                                                                                                                                                                                                                                                                                                                                                                                                                                                                                                                                                                                                                                                                                                                                                                                                                                                                                                                                                                                                                                                                                                                                                                                                                                                                                                                                                                                                                                                                                                                                                                                                                                                                                                                                                                                                                                                                                                                                                                                                                                                                                                                                                                                                                                                                                                                                                                                                                                                                                                                                                                                                                                                                                                                                                                                                                                                                                                                                                                                                                                                                                                                                                                                                                                                                                           1\n",
            "Name: text, Length: 13884, dtype: int64\n",
            "14287\n",
            "-------------------------\n",
            "Train Max Sentence Length :24234\n",
            "Test Max Sentence Length :17201\n"
          ]
        }
      ],
      "source": [
        "df = pd.read_csv('/content/drive/MyDrive/....csv')\n",
        "df = df.sample(frac = 1)\n",
        "#df[\"label\"].replace({1:1, 2:1, 3:2, 4:3, 5:3}, inplace=True)\n",
        "msk = np.random.rand(len(df)) <= 0.8\n",
        "\n",
        "train_data = df[msk]\n",
        "test_data = df[~msk]\n",
        "\n",
        "\n",
        "train_data.dropna(axis = 0, how ='any',inplace=True) \n",
        "train_data['Num_words_text'] = train_data['text'].apply(lambda x:len(str(x).split())) \n",
        "mask = train_data['Num_words_text'] >2\n",
        "train_data = train_data[mask]\n",
        "print('-------Train data--------')\n",
        "print(train_data['label'].value_counts())\n",
        "print(len(train_data))\n",
        "print('-------------------------')\n",
        "max_train_sentence_length  = train_data['Num_words_text'].max()\n",
        "\n",
        "\n",
        "train_data['text'] = train_data['text'].apply(remove_emoji)\n",
        "train_data['text'] = train_data['text'].apply(remove_url)\n",
        "train_data['text'] = train_data['text'].apply(clean_text)\n",
        "\n",
        "\n",
        "\n",
        "test_data.dropna(axis = 0, how ='any',inplace=True) \n",
        "test_data['Num_words_text'] = test_data['text'].apply(lambda x:len(str(x).split())) \n",
        "\n",
        "max_test_sentence_length  = test_data['Num_words_text'].max()\n",
        "\n",
        "mask = test_data['Num_words_text'] >2\n",
        "test_data = test_data[mask]\n",
        "\n",
        "print('-------Test data--------')\n",
        "print(test_data['text'].value_counts())\n",
        "print(len(test_data))\n",
        "print('-------------------------')\n",
        "\n",
        "test_data['text'] = test_data['text'].apply(remove_emoji)\n",
        "test_data['text'] = test_data['text'].apply(remove_url)\n",
        "test_data['text'] = test_data['text'].apply(clean_text)\n",
        "\n",
        "\n",
        "print('Train Max Sentence Length :'+str(max_train_sentence_length))\n",
        "print('Test Max Sentence Length :'+str(max_test_sentence_length))\n",
        "\n",
        "#all_sentences = train_data['text'].tolist() + test_data['text'].tolist()\n"
      ]
    },
    {
      "cell_type": "code",
      "execution_count": null,
      "metadata": {
        "colab": {
          "base_uri": "https://localhost:8080/",
          "height": 424
        },
        "id": "GXmrv24yiQQp",
        "outputId": "da0fc786-8f37-44d1-de0e-690cf957a64d"
      },
      "outputs": [
        {
          "data": {
            "text/html": [
              "\n",
              "  <div id=\"df-27ea236e-d5ad-439d-9a8a-5b9694fe6e8d\">\n",
              "    <div class=\"colab-df-container\">\n",
              "      <div>\n",
              "<style scoped>\n",
              "    .dataframe tbody tr th:only-of-type {\n",
              "        vertical-align: middle;\n",
              "    }\n",
              "\n",
              "    .dataframe tbody tr th {\n",
              "        vertical-align: top;\n",
              "    }\n",
              "\n",
              "    .dataframe thead th {\n",
              "        text-align: right;\n",
              "    }\n",
              "</style>\n",
              "<table border=\"1\" class=\"dataframe\">\n",
              "  <thead>\n",
              "    <tr style=\"text-align: right;\">\n",
              "      <th></th>\n",
              "      <th>Unnamed: 0</th>\n",
              "      <th>title</th>\n",
              "      <th>text</th>\n",
              "      <th>label</th>\n",
              "      <th>Num_words_text</th>\n",
              "      <th>pred_sentiment</th>\n",
              "    </tr>\n",
              "  </thead>\n",
              "  <tbody>\n",
              "    <tr>\n",
              "      <th>62950</th>\n",
              "      <td>62950</td>\n",
              "      <td>La Cruzada Albigense amenaza el cetro Cristian...</td>\n",
              "      <td>cruzada albigense amenaza cetro cristiano rona...</td>\n",
              "      <td>1</td>\n",
              "      <td>698</td>\n",
              "      <td>1.0</td>\n",
              "    </tr>\n",
              "    <tr>\n",
              "      <th>5429</th>\n",
              "      <td>5429</td>\n",
              "      <td>As battle rages, devastated Philippine city st...</td>\n",
              "      <td>marawi city philippines reuters war might stil...</td>\n",
              "      <td>0</td>\n",
              "      <td>434</td>\n",
              "      <td>0.0</td>\n",
              "    </tr>\n",
              "    <tr>\n",
              "      <th>25265</th>\n",
              "      <td>25265</td>\n",
              "      <td>Is the Hillary email scandal Watergate all ove...</td>\n",
              "      <td>the reporter who broke the watergate scandal w...</td>\n",
              "      <td>0</td>\n",
              "      <td>1008</td>\n",
              "      <td>1.0</td>\n",
              "    </tr>\n",
              "    <tr>\n",
              "      <th>46840</th>\n",
              "      <td>46840</td>\n",
              "      <td>LOL! Democrat Congressman Says Best Way To Fig...</td>\n",
              "      <td>msnbc host asks congressman ted leiu democrat ...</td>\n",
              "      <td>1</td>\n",
              "      <td>124</td>\n",
              "      <td>1.0</td>\n",
              "    </tr>\n",
              "    <tr>\n",
              "      <th>12823</th>\n",
              "      <td>12823</td>\n",
              "      <td>RARE INTERVIEW WITH WHITE HOUSE SECRETARY: Bil...</td>\n",
              "      <td>this mindblowing interview that confirms much ...</td>\n",
              "      <td>1</td>\n",
              "      <td>1858</td>\n",
              "      <td>1.0</td>\n",
              "    </tr>\n",
              "    <tr>\n",
              "      <th>...</th>\n",
              "      <td>...</td>\n",
              "      <td>...</td>\n",
              "      <td>...</td>\n",
              "      <td>...</td>\n",
              "      <td>...</td>\n",
              "      <td>...</td>\n",
              "    </tr>\n",
              "    <tr>\n",
              "      <th>70400</th>\n",
              "      <td>70400</td>\n",
              "      <td>Explosive Assange/Pilger Interview on US Elect...</td>\n",
              "      <td>other writers “whistleblower julian assange ha...</td>\n",
              "      <td>1</td>\n",
              "      <td>3114</td>\n",
              "      <td>1.0</td>\n",
              "    </tr>\n",
              "    <tr>\n",
              "      <th>20921</th>\n",
              "      <td>20921</td>\n",
              "      <td>WATCH: Trump Supporter Admits What ‘Make Amer...</td>\n",
              "      <td>the reason why many conservatives support dona...</td>\n",
              "      <td>1</td>\n",
              "      <td>402</td>\n",
              "      <td>0.0</td>\n",
              "    </tr>\n",
              "    <tr>\n",
              "      <th>44854</th>\n",
              "      <td>44854</td>\n",
              "      <td>WOW! CHICAGO REPORTEDLY FINDS At Least 14,000 ...</td>\n",
              "      <td>the head the chicago republican party claiming...</td>\n",
              "      <td>1</td>\n",
              "      <td>242</td>\n",
              "      <td>1.0</td>\n",
              "    </tr>\n",
              "    <tr>\n",
              "      <th>67693</th>\n",
              "      <td>67693</td>\n",
              "      <td>Tiger shot dead in Paris after escaping from c...</td>\n",
              "      <td>paris reuters tiger was shot dead western pari...</td>\n",
              "      <td>0</td>\n",
              "      <td>47</td>\n",
              "      <td>0.0</td>\n",
              "    </tr>\n",
              "    <tr>\n",
              "      <th>71639</th>\n",
              "      <td>71639</td>\n",
              "      <td>AFL-CIO leader resigns from Trump's council, s...</td>\n",
              "      <td>washington reuters aflcio president richard tr...</td>\n",
              "      <td>0</td>\n",
              "      <td>125</td>\n",
              "      <td>0.0</td>\n",
              "    </tr>\n",
              "  </tbody>\n",
              "</table>\n",
              "<p>14287 rows × 6 columns</p>\n",
              "</div>\n",
              "      <button class=\"colab-df-convert\" onclick=\"convertToInteractive('df-27ea236e-d5ad-439d-9a8a-5b9694fe6e8d')\"\n",
              "              title=\"Convert this dataframe to an interactive table.\"\n",
              "              style=\"display:none;\">\n",
              "        \n",
              "  <svg xmlns=\"http://www.w3.org/2000/svg\" height=\"24px\"viewBox=\"0 0 24 24\"\n",
              "       width=\"24px\">\n",
              "    <path d=\"M0 0h24v24H0V0z\" fill=\"none\"/>\n",
              "    <path d=\"M18.56 5.44l.94 2.06.94-2.06 2.06-.94-2.06-.94-.94-2.06-.94 2.06-2.06.94zm-11 1L8.5 8.5l.94-2.06 2.06-.94-2.06-.94L8.5 2.5l-.94 2.06-2.06.94zm10 10l.94 2.06.94-2.06 2.06-.94-2.06-.94-.94-2.06-.94 2.06-2.06.94z\"/><path d=\"M17.41 7.96l-1.37-1.37c-.4-.4-.92-.59-1.43-.59-.52 0-1.04.2-1.43.59L10.3 9.45l-7.72 7.72c-.78.78-.78 2.05 0 2.83L4 21.41c.39.39.9.59 1.41.59.51 0 1.02-.2 1.41-.59l7.78-7.78 2.81-2.81c.8-.78.8-2.07 0-2.86zM5.41 20L4 18.59l7.72-7.72 1.47 1.35L5.41 20z\"/>\n",
              "  </svg>\n",
              "      </button>\n",
              "      \n",
              "  <style>\n",
              "    .colab-df-container {\n",
              "      display:flex;\n",
              "      flex-wrap:wrap;\n",
              "      gap: 12px;\n",
              "    }\n",
              "\n",
              "    .colab-df-convert {\n",
              "      background-color: #E8F0FE;\n",
              "      border: none;\n",
              "      border-radius: 50%;\n",
              "      cursor: pointer;\n",
              "      display: none;\n",
              "      fill: #1967D2;\n",
              "      height: 32px;\n",
              "      padding: 0 0 0 0;\n",
              "      width: 32px;\n",
              "    }\n",
              "\n",
              "    .colab-df-convert:hover {\n",
              "      background-color: #E2EBFA;\n",
              "      box-shadow: 0px 1px 2px rgba(60, 64, 67, 0.3), 0px 1px 3px 1px rgba(60, 64, 67, 0.15);\n",
              "      fill: #174EA6;\n",
              "    }\n",
              "\n",
              "    [theme=dark] .colab-df-convert {\n",
              "      background-color: #3B4455;\n",
              "      fill: #D2E3FC;\n",
              "    }\n",
              "\n",
              "    [theme=dark] .colab-df-convert:hover {\n",
              "      background-color: #434B5C;\n",
              "      box-shadow: 0px 1px 3px 1px rgba(0, 0, 0, 0.15);\n",
              "      filter: drop-shadow(0px 1px 2px rgba(0, 0, 0, 0.3));\n",
              "      fill: #FFFFFF;\n",
              "    }\n",
              "  </style>\n",
              "\n",
              "      <script>\n",
              "        const buttonEl =\n",
              "          document.querySelector('#df-27ea236e-d5ad-439d-9a8a-5b9694fe6e8d button.colab-df-convert');\n",
              "        buttonEl.style.display =\n",
              "          google.colab.kernel.accessAllowed ? 'block' : 'none';\n",
              "\n",
              "        async function convertToInteractive(key) {\n",
              "          const element = document.querySelector('#df-27ea236e-d5ad-439d-9a8a-5b9694fe6e8d');\n",
              "          const dataTable =\n",
              "            await google.colab.kernel.invokeFunction('convertToInteractive',\n",
              "                                                     [key], {});\n",
              "          if (!dataTable) return;\n",
              "\n",
              "          const docLinkHtml = 'Like what you see? Visit the ' +\n",
              "            '<a target=\"_blank\" href=https://colab.research.google.com/notebooks/data_table.ipynb>data table notebook</a>'\n",
              "            + ' to learn more about interactive tables.';\n",
              "          element.innerHTML = '';\n",
              "          dataTable['output_type'] = 'display_data';\n",
              "          await google.colab.output.renderOutput(dataTable, element);\n",
              "          const docLink = document.createElement('div');\n",
              "          docLink.innerHTML = docLinkHtml;\n",
              "          element.appendChild(docLink);\n",
              "        }\n",
              "      </script>\n",
              "    </div>\n",
              "  </div>\n",
              "  "
            ],
            "text/plain": [
              "       Unnamed: 0                                              title  \\\n",
              "62950       62950  La Cruzada Albigense amenaza el cetro Cristian...   \n",
              "5429         5429  As battle rages, devastated Philippine city st...   \n",
              "25265       25265  Is the Hillary email scandal Watergate all ove...   \n",
              "46840       46840  LOL! Democrat Congressman Says Best Way To Fig...   \n",
              "12823       12823  RARE INTERVIEW WITH WHITE HOUSE SECRETARY: Bil...   \n",
              "...           ...                                                ...   \n",
              "70400       70400  Explosive Assange/Pilger Interview on US Elect...   \n",
              "20921       20921   WATCH: Trump Supporter Admits What ‘Make Amer...   \n",
              "44854       44854  WOW! CHICAGO REPORTEDLY FINDS At Least 14,000 ...   \n",
              "67693       67693  Tiger shot dead in Paris after escaping from c...   \n",
              "71639       71639  AFL-CIO leader resigns from Trump's council, s...   \n",
              "\n",
              "                                                    text  label  \\\n",
              "62950  cruzada albigense amenaza cetro cristiano rona...      1   \n",
              "5429   marawi city philippines reuters war might stil...      0   \n",
              "25265  the reporter who broke the watergate scandal w...      0   \n",
              "46840  msnbc host asks congressman ted leiu democrat ...      1   \n",
              "12823  this mindblowing interview that confirms much ...      1   \n",
              "...                                                  ...    ...   \n",
              "70400  other writers “whistleblower julian assange ha...      1   \n",
              "20921  the reason why many conservatives support dona...      1   \n",
              "44854  the head the chicago republican party claiming...      1   \n",
              "67693  paris reuters tiger was shot dead western pari...      0   \n",
              "71639  washington reuters aflcio president richard tr...      0   \n",
              "\n",
              "       Num_words_text  pred_sentiment  \n",
              "62950             698             1.0  \n",
              "5429              434             0.0  \n",
              "25265            1008             1.0  \n",
              "46840             124             1.0  \n",
              "12823            1858             1.0  \n",
              "...               ...             ...  \n",
              "70400            3114             1.0  \n",
              "20921             402             0.0  \n",
              "44854             242             1.0  \n",
              "67693              47             0.0  \n",
              "71639             125             0.0  \n",
              "\n",
              "[14287 rows x 6 columns]"
            ]
          },
          "execution_count": 54,
          "metadata": {},
          "output_type": "execute_result"
        }
      ],
      "source": [
        "test_data"
      ]
    },
    {
      "cell_type": "markdown",
      "metadata": {
        "id": "EQTOaqZ9QqGG"
      },
      "source": [
        "Let us split the training data into train and validation datasets\n",
        "Let us convert our training,validation and test data into the format accepted by tensorflow"
      ]
    },
    {
      "cell_type": "markdown",
      "metadata": {
        "id": "Yw6JHFrXQqGH"
      },
      "source": [
        "***\n",
        "https://www.tensorflow.org/api_docs/python/tf/keras/preprocessing/text/Tokenizer\n",
        "<br>\n",
        "This class allows to vectorize a text corpus, by turning each text into either a sequence of integers (each integer being the index of a token in a dictionary) or into a vector where the coefficient for each token could be binary, based on word count, based on tf-idf...\n",
        "***"
      ]
    },
    {
      "cell_type": "code",
      "execution_count": null,
      "metadata": {
        "colab": {
          "base_uri": "https://localhost:8080/"
        },
        "id": "Pm8vTtVpQqGH",
        "outputId": "d38f863c-2e6a-4aa5-eada-de125eac4ed5"
      },
      "outputs": [
        {
          "name": "stdout",
          "output_type": "stream",
          "text": [
            "[[1, 66, 14, 20]]\n"
          ]
        }
      ],
      "source": [
        "num_words = 20000\n",
        "\n",
        "tokenizer = Tokenizer(num_words=num_words,oov_token=\"unk\")\n",
        "tokenizer.fit_on_texts(train_data['text'].tolist())\n",
        "\n",
        "\n",
        "print(str(tokenizer.texts_to_sequences(['xyz how are you'])))\n",
        "\n",
        "   \n"
      ]
    },
    {
      "cell_type": "code",
      "execution_count": null,
      "metadata": {
        "colab": {
          "base_uri": "https://localhost:8080/"
        },
        "id": "A5HE2RDUaUD3",
        "outputId": "b9f07566-eb57-4293-8435-bdaf802ff0dc"
      },
      "outputs": [
        {
          "name": "stdout",
          "output_type": "stream",
          "text": [
            "Train data len:50850\n",
            "Class distributionCounter({1: 25655, 0: 25195})\n",
            "Valid data len:5650\n",
            "Class distributionCounter({1: 2851, 0: 2799})\n"
          ]
        }
      ],
      "source": [
        "X_train, X_valid, y_train, y_valid = train_test_split(train_data['text'].tolist(),\\\n",
        "                                                      train_data['label'].tolist(),\\\n",
        "                                                      test_size=0.1,\\\n",
        "                                                      stratify = train_data['label'].tolist(),\\\n",
        "                                                      random_state=0)\n",
        "\n",
        "\n",
        "print('Train data len:'+str(len(X_train)))\n",
        "print('Class distribution'+str(Counter(y_train)))\n",
        "print('Valid data len:'+str(len(X_valid)))\n",
        "print('Class distribution'+ str(Counter(y_valid)))\n"
      ]
    },
    {
      "cell_type": "code",
      "execution_count": null,
      "metadata": {
        "colab": {
          "base_uri": "https://localhost:8080/"
        },
        "id": "gwFhW4rYaY1k",
        "outputId": "1e2785b1-d576-42b5-87d9-7ac5c05d6ecd"
      },
      "outputs": [
        {
          "name": "stderr",
          "output_type": "stream",
          "text": [
            "/usr/local/lib/python3.7/dist-packages/ipykernel_launcher.py:1: VisibleDeprecationWarning: Creating an ndarray from ragged nested sequences (which is a list-or-tuple of lists-or-tuples-or ndarrays with different lengths or shapes) is deprecated. If you meant to do this, you must specify 'dtype=object' when creating the ndarray.\n",
            "  \"\"\"Entry point for launching an IPython kernel.\n",
            "/usr/local/lib/python3.7/dist-packages/ipykernel_launcher.py:2: VisibleDeprecationWarning: Creating an ndarray from ragged nested sequences (which is a list-or-tuple of lists-or-tuples-or ndarrays with different lengths or shapes) is deprecated. If you meant to do this, you must specify 'dtype=object' when creating the ndarray.\n",
            "  \n"
          ]
        }
      ],
      "source": [
        "x_train = np.array( tokenizer.texts_to_sequences(X_train) )\n",
        "x_valid = np.array( tokenizer.texts_to_sequences(X_valid) )\n",
        "\n",
        "test_data['text'] = str(test_data['text']).lower()\n",
        "x_test  = np.array( tokenizer.texts_to_sequences(test_data['text'].tolist()) )\n",
        "\n"
      ]
    },
    {
      "cell_type": "code",
      "execution_count": null,
      "metadata": {
        "colab": {
          "base_uri": "https://localhost:8080/"
        },
        "id": "xSL41NRfQqGH",
        "outputId": "cd3a2644-7823-4816-be98-5d3b92e9e52e"
      },
      "outputs": [
        {
          "name": "stdout",
          "output_type": "stream",
          "text": [
            "Train data len:50761\n",
            "Class distributionCounter({1: 25704, 0: 25057})\n",
            "Valid data len:5641\n",
            "Class distributionCounter({1: 2856, 0: 2785})\n"
          ]
        },
        {
          "name": "stderr",
          "output_type": "stream",
          "text": [
            "/usr/local/lib/python3.7/dist-packages/ipykernel_launcher.py:10: VisibleDeprecationWarning: Creating an ndarray from ragged nested sequences (which is a list-or-tuple of lists-or-tuples-or ndarrays with different lengths or shapes) is deprecated. If you meant to do this, you must specify 'dtype=object' when creating the ndarray.\n",
            "  # Remove the CWD from sys.path while we load stuff.\n",
            "/usr/local/lib/python3.7/dist-packages/ipykernel_launcher.py:11: VisibleDeprecationWarning: Creating an ndarray from ragged nested sequences (which is a list-or-tuple of lists-or-tuples-or ndarrays with different lengths or shapes) is deprecated. If you meant to do this, you must specify 'dtype=object' when creating the ndarray.\n",
            "  # This is added back by InteractiveShellApp.init_path()\n"
          ]
        },
        {
          "name": "stdout",
          "output_type": "stream",
          "text": [
            "[  248   281   111  4485     5  2966  5421  2034   894  1883  3143   243\n",
            "     1     2   460    84    44  2401  6146  6376    18   944  4165     2\n",
            "   783     2    11   160   981     6  3213     2    71  1680  4147    33\n",
            "   375  1496   135    89  1666     3   212  1885  5620   977   227   382\n",
            "   721     6  8416 11273    15     9  2891  1481     1   362   301  5232\n",
            "  3420  6693   593    38  2006     2   454     2  3723 15937     2    80\n",
            "     1     7     1     2  4701   320 16649    64  2731   250   635     7\n",
            "  3097    71    11   623  3035   735     9  7985  7962   134     5   171\n",
            "   239  2725   749  2028  1169  1036  1785   131  3861     3     2  2002\n",
            "  8101  4815   832   219    32   282  5421  1305     2   213     4    17\n",
            "    24  1561     6     2   163  9184     2   167   832     2   998     7\n",
            "    14     1   328    18    28    14   699     2 16708    60   117   791\n",
            "    21   998   310  1851   518     1   956  1579     3  5848  5421  9245\n",
            "     1  2268   258     3    97   408     3    97    76   842    32   461\n",
            "  1666   202  5421    36     7     7    99   716     2  1768    20   266\n",
            "  1316    60    30     8  4303  7244   332  5200    10    35     2  2969\n",
            "  1278    43    13   181    29   149  1346     2  6643   298 13537     1\n",
            "  1584     9 10395  2930  1708     3  8960  5421     1     2    11   160\n",
            "    31   555     3  2573   118    94     1  6947     9   485     2  7297\n",
            "     6  3213     2    11   235  2486   664     9   999     7  7639   567\n",
            "    12  3853     6     2   121  5421  1278    20   205    14    99    51\n",
            "    16   164   262 11273     2    34   125     2   121  7913    15     2\n",
            "     1   732   536    16  2930  3605    37   880     1  4263     1     1\n",
            "   734     1     1   797     1    35  1013    94   349  1158     2    29\n",
            "    23    43  1201    36  1093  1222    51     1     1     1  9329     1\n",
            "   797     1  5421   170   502    11   762     9   221  2317    19    14\n",
            "  1339   121  2090     1  1731     1     1   797     1   170   502  3035\n",
            "     1  7650   138    93  3646  8101     1   138    93  3646     1     1\n",
            "    16    61     1  1731     1     1   797     1  8534    18  6844   749\n",
            "  2028     5   352  3074  5421   183    13    20   334   128   311     1\n",
            "  3081  8320     1   797     1     1    36     7  1549   518     2     1\n",
            "     1  5644  1663  1446     1   797 16819   138   290    14  7826     1\n",
            "  9771     1     1  1529     1     1   797     1   686 10549     3  2518\n",
            "  1186    88     9   894  1883     7  1637   211    72   383  3442     4\n",
            "    87    84    44    57  2451   597  5421  2996  2401  6146  4504  2568\n",
            "  3473    86  4831   213     5     2  5457    32   894     1  3776  1226\n",
            "    84   597  3296    19  3936   126     3  2241     9   213 13568   381\n",
            "     1     1     1   797     1   830     1   441     1   894  1883     1\n",
            "     1     1  1963  7255     1   797     1  2966  5421     1     1     1\n",
            "  7033     1   797     1     4  5421   808    70  1850   123   837     3\n",
            "   275   822  2016  6146  4504  3765  7291     5  2401     1 19834     1\n",
            "   797     1   487  9225   898     2 16708   574   362   301  1143   253\n",
            "  2701     1 16473  2027     1   797 18115  1119     2    29  3143    13\n",
            "   387    16  7620     2  6067  2058  1613     3    13  1546   244     1\n",
            "  2663     1   797  9742     7     2  2092  1326   129     3  4321    87\n",
            "     7     1  4321   610     1     1     1     1   797     1  2518    40\n",
            "    86    81     9   408  1051   278 18041     1     1     1   797     1\n",
            "  6138    97     1    51   222     1    36    97     1     1     1 19079\n",
            "     1   797     1     7  3728  3143  3426    93  1726  3143  3426 12833\n",
            "  3143  3426     1  2612    62     1  5182     1   797  9742   993    36\n",
            "   179   130   188    61    75    82   578   131  1957    61    17  1507\n",
            "     4    77   154 19558  7743    22  6879     3     4    13    14    99\n",
            "   128    75 18433   300   251   571  6839     0     0     0     0     0\n",
            "     0     0     0     0     0     0     0     0     0     0     0     0\n",
            "     0     0     0     0     0     0     0     0     0     0     0     0\n",
            "     0     0     0     0     0     0     0     0     0     0     0     0\n",
            "     0     0     0     0     0     0     0     0     0     0     0     0\n",
            "     0     0     0     0     0     0     0     0     0     0     0     0\n",
            "     0     0     0     0     0     0     0     0     0     0     0     0\n",
            "     0     0     0     0     0     0     0     0     0     0     0     0\n",
            "     0     0     0     0     0     0     0     0     0     0     0     0\n",
            "     0     0     0     0     0     0     0     0     0     0     0     0\n",
            "     0     0     0     0     0     0     0     0     0     0     0     0\n",
            "     0     0     0     0     0     0     0     0     0     0     0     0\n",
            "     0     0     0     0     0     0     0     0     0     0     0     0\n",
            "     0     0     0     0     0     0     0     0     0     0     0     0\n",
            "     0     0     0     0     0     0     0     0     0     0     0     0\n",
            "     0     0     0     0     0     0     0     0     0     0     0     0\n",
            "     0     0     0     0     0     0     0     0     0     0     0     0\n",
            "     0     0     0     0     0     0     0     0     0     0     0     0\n",
            "     0     0     0     0     0     0     0     0     0     0     0     0\n",
            "     0     0     0     0     0     0     0     0     0     0     0     0\n",
            "     0     0     0     0     0     0     0     0     0     0     0     0\n",
            "     0     0     0     0     0     0     0     0     0     0     0     0\n",
            "     0     0     0     0     0     0     0     0     0     0     0     0\n",
            "     0     0     0     0     0     0     0     0     0     0     0     0\n",
            "     0     0     0     0     0     0     0     0     0     0     0     0\n",
            "     0     0     0     0     0     0     0     0     0     0     0     0\n",
            "     0     0     0     0     0     0     0     0     0     0     0     0\n",
            "     0     0     0     0     0     0     0     0     0     0     0     0\n",
            "     0     0     0     0     0     0     0     0     0     0     0     0\n",
            "     0     0     0     0     0     0     0     0     0     0     0     0\n",
            "     0     0     0     0     0     0     0     0     0     0     0     0\n",
            "     0     0     0     0]\n"
          ]
        }
      ],
      "source": [
        "X_train, X_valid, y_train, y_valid = train_test_split(train_data['text'].tolist(),\\\n",
        "                                                      train_data['label'].tolist(),\\\n",
        "                                                      test_size=0.1,\\\n",
        "                                                      stratify = train_data['label'].tolist(),\\\n",
        "                                                      random_state=0)\n",
        "\n",
        "\n",
        "print('Train data len:'+str(len(X_train)))\n",
        "print('Class distribution'+str(Counter(y_train)))\n",
        "print('Valid data len:'+str(len(X_valid)))\n",
        "print('Class distribution'+ str(Counter(y_valid)))\n",
        "\n",
        "\n",
        "x_train = np.array( tokenizer.texts_to_sequences(X_train) )\n",
        "x_valid = np.array( tokenizer.texts_to_sequences(X_valid) )\n",
        "#test_data['text'] = str(test_data['text']).lower()\n",
        "x_test  = np.array( tokenizer.texts_to_sequences(test_data['text'].tolist()) )\n",
        "\n",
        "\n",
        "\n",
        "x_train = pad_sequences(x_train, padding='post', maxlen=1000)\n",
        "x_valid = pad_sequences(x_valid, padding='post', maxlen=1000)\n",
        "x_test = pad_sequences(x_test, padding='post', maxlen=1000)\n",
        "\n",
        "print(x_train[0])\n",
        "\n",
        "le = LabelEncoder()\n",
        "\n",
        "train_labels = le.fit_transform(y_train)\n",
        "train_labels = np.asarray( tf.keras.utils.to_categorical(train_labels))\n",
        "#print(train_labels)\n",
        "valid_labels = le.transform(y_valid)\n",
        "valid_labels = np.asarray( tf.keras.utils.to_categorical(valid_labels))\n",
        "\n",
        "test_labels = le.transform(test_data['label'].tolist())\n",
        "test_labels = np.asarray(tf.keras.utils.to_categorical(test_labels))\n",
        "list(le.classes_)\n",
        "\n",
        "\n",
        "train_ds = tf.data.Dataset.from_tensor_slices((x_train,train_labels))\n",
        "valid_ds = tf.data.Dataset.from_tensor_slices((x_valid,valid_labels))\n",
        "test_ds = tf.data.Dataset.from_tensor_slices((x_test,test_labels))\n"
      ]
    },
    {
      "cell_type": "code",
      "execution_count": null,
      "metadata": {
        "colab": {
          "base_uri": "https://localhost:8080/",
          "height": 424
        },
        "id": "SMlnCZ27nvjD",
        "outputId": "bea59f0e-068e-4ba8-8f30-9ffe6b11fe96"
      },
      "outputs": [
        {
          "data": {
            "text/html": [
              "\n",
              "  <div id=\"df-8ee353d7-f12c-4f45-82c9-48b73cab8e3b\">\n",
              "    <div class=\"colab-df-container\">\n",
              "      <div>\n",
              "<style scoped>\n",
              "    .dataframe tbody tr th:only-of-type {\n",
              "        vertical-align: middle;\n",
              "    }\n",
              "\n",
              "    .dataframe tbody tr th {\n",
              "        vertical-align: top;\n",
              "    }\n",
              "\n",
              "    .dataframe thead th {\n",
              "        text-align: right;\n",
              "    }\n",
              "</style>\n",
              "<table border=\"1\" class=\"dataframe\">\n",
              "  <thead>\n",
              "    <tr style=\"text-align: right;\">\n",
              "      <th></th>\n",
              "      <th>Unnamed: 0</th>\n",
              "      <th>title</th>\n",
              "      <th>text</th>\n",
              "      <th>label</th>\n",
              "      <th>Num_words_text</th>\n",
              "    </tr>\n",
              "  </thead>\n",
              "  <tbody>\n",
              "    <tr>\n",
              "      <th>62950</th>\n",
              "      <td>62950</td>\n",
              "      <td>La Cruzada Albigense amenaza el cetro Cristian...</td>\n",
              "      <td>cruzada albigense amenaza cetro cristiano rona...</td>\n",
              "      <td>1</td>\n",
              "      <td>698</td>\n",
              "    </tr>\n",
              "    <tr>\n",
              "      <th>5429</th>\n",
              "      <td>5429</td>\n",
              "      <td>As battle rages, devastated Philippine city st...</td>\n",
              "      <td>marawi city philippines reuters war might stil...</td>\n",
              "      <td>0</td>\n",
              "      <td>434</td>\n",
              "    </tr>\n",
              "    <tr>\n",
              "      <th>25265</th>\n",
              "      <td>25265</td>\n",
              "      <td>Is the Hillary email scandal Watergate all ove...</td>\n",
              "      <td>the reporter who broke the watergate scandal w...</td>\n",
              "      <td>0</td>\n",
              "      <td>1008</td>\n",
              "    </tr>\n",
              "    <tr>\n",
              "      <th>46840</th>\n",
              "      <td>46840</td>\n",
              "      <td>LOL! Democrat Congressman Says Best Way To Fig...</td>\n",
              "      <td>msnbc host asks congressman ted leiu democrat ...</td>\n",
              "      <td>1</td>\n",
              "      <td>124</td>\n",
              "    </tr>\n",
              "    <tr>\n",
              "      <th>12823</th>\n",
              "      <td>12823</td>\n",
              "      <td>RARE INTERVIEW WITH WHITE HOUSE SECRETARY: Bil...</td>\n",
              "      <td>this mindblowing interview that confirms much ...</td>\n",
              "      <td>1</td>\n",
              "      <td>1858</td>\n",
              "    </tr>\n",
              "    <tr>\n",
              "      <th>...</th>\n",
              "      <td>...</td>\n",
              "      <td>...</td>\n",
              "      <td>...</td>\n",
              "      <td>...</td>\n",
              "      <td>...</td>\n",
              "    </tr>\n",
              "    <tr>\n",
              "      <th>70400</th>\n",
              "      <td>70400</td>\n",
              "      <td>Explosive Assange/Pilger Interview on US Elect...</td>\n",
              "      <td>other writers “whistleblower julian assange ha...</td>\n",
              "      <td>1</td>\n",
              "      <td>3114</td>\n",
              "    </tr>\n",
              "    <tr>\n",
              "      <th>20921</th>\n",
              "      <td>20921</td>\n",
              "      <td>WATCH: Trump Supporter Admits What ‘Make Amer...</td>\n",
              "      <td>the reason why many conservatives support dona...</td>\n",
              "      <td>1</td>\n",
              "      <td>402</td>\n",
              "    </tr>\n",
              "    <tr>\n",
              "      <th>44854</th>\n",
              "      <td>44854</td>\n",
              "      <td>WOW! CHICAGO REPORTEDLY FINDS At Least 14,000 ...</td>\n",
              "      <td>the head the chicago republican party claiming...</td>\n",
              "      <td>1</td>\n",
              "      <td>242</td>\n",
              "    </tr>\n",
              "    <tr>\n",
              "      <th>67693</th>\n",
              "      <td>67693</td>\n",
              "      <td>Tiger shot dead in Paris after escaping from c...</td>\n",
              "      <td>paris reuters tiger was shot dead western pari...</td>\n",
              "      <td>0</td>\n",
              "      <td>47</td>\n",
              "    </tr>\n",
              "    <tr>\n",
              "      <th>71639</th>\n",
              "      <td>71639</td>\n",
              "      <td>AFL-CIO leader resigns from Trump's council, s...</td>\n",
              "      <td>washington reuters aflcio president richard tr...</td>\n",
              "      <td>0</td>\n",
              "      <td>125</td>\n",
              "    </tr>\n",
              "  </tbody>\n",
              "</table>\n",
              "<p>14287 rows × 5 columns</p>\n",
              "</div>\n",
              "      <button class=\"colab-df-convert\" onclick=\"convertToInteractive('df-8ee353d7-f12c-4f45-82c9-48b73cab8e3b')\"\n",
              "              title=\"Convert this dataframe to an interactive table.\"\n",
              "              style=\"display:none;\">\n",
              "        \n",
              "  <svg xmlns=\"http://www.w3.org/2000/svg\" height=\"24px\"viewBox=\"0 0 24 24\"\n",
              "       width=\"24px\">\n",
              "    <path d=\"M0 0h24v24H0V0z\" fill=\"none\"/>\n",
              "    <path d=\"M18.56 5.44l.94 2.06.94-2.06 2.06-.94-2.06-.94-.94-2.06-.94 2.06-2.06.94zm-11 1L8.5 8.5l.94-2.06 2.06-.94-2.06-.94L8.5 2.5l-.94 2.06-2.06.94zm10 10l.94 2.06.94-2.06 2.06-.94-2.06-.94-.94-2.06-.94 2.06-2.06.94z\"/><path d=\"M17.41 7.96l-1.37-1.37c-.4-.4-.92-.59-1.43-.59-.52 0-1.04.2-1.43.59L10.3 9.45l-7.72 7.72c-.78.78-.78 2.05 0 2.83L4 21.41c.39.39.9.59 1.41.59.51 0 1.02-.2 1.41-.59l7.78-7.78 2.81-2.81c.8-.78.8-2.07 0-2.86zM5.41 20L4 18.59l7.72-7.72 1.47 1.35L5.41 20z\"/>\n",
              "  </svg>\n",
              "      </button>\n",
              "      \n",
              "  <style>\n",
              "    .colab-df-container {\n",
              "      display:flex;\n",
              "      flex-wrap:wrap;\n",
              "      gap: 12px;\n",
              "    }\n",
              "\n",
              "    .colab-df-convert {\n",
              "      background-color: #E8F0FE;\n",
              "      border: none;\n",
              "      border-radius: 50%;\n",
              "      cursor: pointer;\n",
              "      display: none;\n",
              "      fill: #1967D2;\n",
              "      height: 32px;\n",
              "      padding: 0 0 0 0;\n",
              "      width: 32px;\n",
              "    }\n",
              "\n",
              "    .colab-df-convert:hover {\n",
              "      background-color: #E2EBFA;\n",
              "      box-shadow: 0px 1px 2px rgba(60, 64, 67, 0.3), 0px 1px 3px 1px rgba(60, 64, 67, 0.15);\n",
              "      fill: #174EA6;\n",
              "    }\n",
              "\n",
              "    [theme=dark] .colab-df-convert {\n",
              "      background-color: #3B4455;\n",
              "      fill: #D2E3FC;\n",
              "    }\n",
              "\n",
              "    [theme=dark] .colab-df-convert:hover {\n",
              "      background-color: #434B5C;\n",
              "      box-shadow: 0px 1px 3px 1px rgba(0, 0, 0, 0.15);\n",
              "      filter: drop-shadow(0px 1px 2px rgba(0, 0, 0, 0.3));\n",
              "      fill: #FFFFFF;\n",
              "    }\n",
              "  </style>\n",
              "\n",
              "      <script>\n",
              "        const buttonEl =\n",
              "          document.querySelector('#df-8ee353d7-f12c-4f45-82c9-48b73cab8e3b button.colab-df-convert');\n",
              "        buttonEl.style.display =\n",
              "          google.colab.kernel.accessAllowed ? 'block' : 'none';\n",
              "\n",
              "        async function convertToInteractive(key) {\n",
              "          const element = document.querySelector('#df-8ee353d7-f12c-4f45-82c9-48b73cab8e3b');\n",
              "          const dataTable =\n",
              "            await google.colab.kernel.invokeFunction('convertToInteractive',\n",
              "                                                     [key], {});\n",
              "          if (!dataTable) return;\n",
              "\n",
              "          const docLinkHtml = 'Like what you see? Visit the ' +\n",
              "            '<a target=\"_blank\" href=https://colab.research.google.com/notebooks/data_table.ipynb>data table notebook</a>'\n",
              "            + ' to learn more about interactive tables.';\n",
              "          element.innerHTML = '';\n",
              "          dataTable['output_type'] = 'display_data';\n",
              "          await google.colab.output.renderOutput(dataTable, element);\n",
              "          const docLink = document.createElement('div');\n",
              "          docLink.innerHTML = docLinkHtml;\n",
              "          element.appendChild(docLink);\n",
              "        }\n",
              "      </script>\n",
              "    </div>\n",
              "  </div>\n",
              "  "
            ],
            "text/plain": [
              "       Unnamed: 0                                              title  \\\n",
              "62950       62950  La Cruzada Albigense amenaza el cetro Cristian...   \n",
              "5429         5429  As battle rages, devastated Philippine city st...   \n",
              "25265       25265  Is the Hillary email scandal Watergate all ove...   \n",
              "46840       46840  LOL! Democrat Congressman Says Best Way To Fig...   \n",
              "12823       12823  RARE INTERVIEW WITH WHITE HOUSE SECRETARY: Bil...   \n",
              "...           ...                                                ...   \n",
              "70400       70400  Explosive Assange/Pilger Interview on US Elect...   \n",
              "20921       20921   WATCH: Trump Supporter Admits What ‘Make Amer...   \n",
              "44854       44854  WOW! CHICAGO REPORTEDLY FINDS At Least 14,000 ...   \n",
              "67693       67693  Tiger shot dead in Paris after escaping from c...   \n",
              "71639       71639  AFL-CIO leader resigns from Trump's council, s...   \n",
              "\n",
              "                                                    text  label  \\\n",
              "62950  cruzada albigense amenaza cetro cristiano rona...      1   \n",
              "5429   marawi city philippines reuters war might stil...      0   \n",
              "25265  the reporter who broke the watergate scandal w...      0   \n",
              "46840  msnbc host asks congressman ted leiu democrat ...      1   \n",
              "12823  this mindblowing interview that confirms much ...      1   \n",
              "...                                                  ...    ...   \n",
              "70400  other writers “whistleblower julian assange ha...      1   \n",
              "20921  the reason why many conservatives support dona...      1   \n",
              "44854  the head the chicago republican party claiming...      1   \n",
              "67693  paris reuters tiger was shot dead western pari...      0   \n",
              "71639  washington reuters aflcio president richard tr...      0   \n",
              "\n",
              "       Num_words_text  \n",
              "62950             698  \n",
              "5429              434  \n",
              "25265            1008  \n",
              "46840             124  \n",
              "12823            1858  \n",
              "...               ...  \n",
              "70400            3114  \n",
              "20921             402  \n",
              "44854             242  \n",
              "67693              47  \n",
              "71639             125  \n",
              "\n",
              "[14287 rows x 5 columns]"
            ]
          },
          "execution_count": 25,
          "metadata": {},
          "output_type": "execute_result"
        }
      ],
      "source": [
        "test_data"
      ]
    },
    {
      "cell_type": "code",
      "execution_count": null,
      "metadata": {
        "colab": {
          "base_uri": "https://localhost:8080/"
        },
        "id": "OKnEJ6gTQqGH",
        "outputId": "17006ec3-c126-452c-a8ef-d3eaec5e1f51"
      },
      "outputs": [
        {
          "name": "stdout",
          "output_type": "stream",
          "text": [
            "[1, 1, 1, 0, 0, 0, 1, 1, 0, 1]\n",
            "Text to number\n",
            "[1 1 1 0 0 0 1 1 0 1]\n",
            "Number to category\n",
            "[[0. 1.]\n",
            " [0. 1.]\n",
            " [0. 1.]\n",
            " [1. 0.]\n",
            " [1. 0.]\n",
            " [1. 0.]\n",
            " [0. 1.]\n",
            " [0. 1.]\n",
            " [1. 0.]\n",
            " [0. 1.]]\n"
          ]
        }
      ],
      "source": [
        "print(y_train[:10])\n",
        "train_labels = le.fit_transform(y_train)\n",
        "print('Text to number')\n",
        "print(train_labels[:10])\n",
        "train_labels = np.asarray( tf.keras.utils.to_categorical(train_labels))\n",
        "print('Number to category')\n",
        "print(train_labels[:10])"
      ]
    },
    {
      "cell_type": "markdown",
      "metadata": {
        "id": "unxkUIaZQqGI"
      },
      "source": [
        "Let us create a simple Convolutional Neural Network model  \n",
        "<br>\n",
        "<br>\n",
        "Keras is a high-level API that's easier for ML beginners, as well as researchers.\n",
        "It is integrated as part of Tensorflow 2.0\n",
        "<br>\n",
        "I am using the Sequential model\n",
        "A Sequential model is appropriate for a plain stack of layers where each layer has exactly one input tensor and one output tensor.\n",
        "Source :https://www.tensorflow.org/guide/keras/sequential_model\n",
        "***"
      ]
    },
    {
      "cell_type": "code",
      "execution_count": null,
      "metadata": {
        "colab": {
          "base_uri": "https://localhost:8080/"
        },
        "id": "abOBmMmRQqGI",
        "outputId": "3e45431c-eda8-4052-d10c-b701c5aefc7f",
        "scrolled": true
      },
      "outputs": [
        {
          "name": "stdout",
          "output_type": "stream",
          "text": [
            "Model: \"sequential_3\"\n",
            "_________________________________________________________________\n",
            " Layer (type)                Output Shape              Param #   \n",
            "=================================================================\n",
            " embedding_3 (Embedding)     (None, 1000, 64)          1280064   \n",
            "                                                                 \n",
            " conv1d_3 (Conv1D)           (None, 998, 8)            1544      \n",
            "                                                                 \n",
            " global_max_pooling1d_3 (Glo  (None, 8)                0         \n",
            " balMaxPooling1D)                                                \n",
            "                                                                 \n",
            " dropout_3 (Dropout)         (None, 8)                 0         \n",
            "                                                                 \n",
            " dense_3 (Dense)             (None, 2)                 18        \n",
            "                                                                 \n",
            "=================================================================\n",
            "Total params: 1,281,626\n",
            "Trainable params: 1,281,626\n",
            "Non-trainable params: 0\n",
            "_________________________________________________________________\n"
          ]
        }
      ],
      "source": [
        "max_features =20000\n",
        "embedding_dim =64\n",
        "sequence_length = 1000\n",
        "\n",
        "model = tf.keras.Sequential()\n",
        "model.add(tf.keras.layers.Embedding(max_features +1, embedding_dim, input_length=sequence_length,\\\n",
        "                                    embeddings_regularizer = regularizers.l2(0.0005)))                                    \n",
        "\n",
        "model.add(tf.keras.layers.Conv1D(8,3, activation='relu',\\\n",
        "                                 kernel_regularizer = regularizers.l2(0.005),\\\n",
        "                                 bias_regularizer = regularizers.l2(0.0005)))                               \n",
        "\n",
        "\n",
        "model.add(tf.keras.layers.GlobalMaxPooling1D())\n",
        "\n",
        "model.add(tf.keras.layers.Dropout(0.5))\n",
        "\n",
        "model.add(tf.keras.layers.Dense(2, activation='sigmoid',\\\n",
        "                                kernel_regularizer=regularizers.l2(0.001),\\\n",
        "                                bias_regularizer=regularizers.l2(0.001),))\n",
        "                               \n",
        "\n",
        "\n",
        "\n",
        "model.summary()\n",
        "model.compile(loss=tf.keras.losses.CategoricalCrossentropy(from_logits=True), optimizer='Nadam', metrics=[\"CategoricalAccuracy\"])"
      ]
    },
    {
      "cell_type": "code",
      "execution_count": null,
      "metadata": {
        "colab": {
          "base_uri": "https://localhost:8080/",
          "height": 644
        },
        "id": "D-_MyxSmQqGJ",
        "outputId": "fa65faac-8155-4a30-8ead-8c8a604b2360"
      },
      "outputs": [
        {
          "data": {
            "image/png": "[encoded data removed]",
            "text/plain": [
              "<IPython.core.display.Image object>"
            ]
          },
          "execution_count": 29,
          "metadata": {},
          "output_type": "execute_result"
        }
      ],
      "source": [
        "tf.keras.utils.plot_model(model, \"multi_input_and_output_model.png\", show_shapes=True)"
      ]
    },
    {
      "cell_type": "markdown",
      "metadata": {
        "id": "dY7Z2rtPQqGJ"
      },
      "source": [
        "Let's train our model"
      ]
    },
    {
      "cell_type": "code",
      "execution_count": null,
      "metadata": {
        "colab": {
          "base_uri": "https://localhost:8080/"
        },
        "id": "PenhrizkQqGJ",
        "outputId": "57ca7714-1eb2-437e-8b8d-5e10e9f40338",
        "scrolled": true
      },
      "outputs": [
        {
          "name": "stdout",
          "output_type": "stream",
          "text": [
            "Epoch 1/10\n",
            "794/794 [==============================] - 6s 8ms/step - loss: 0.3442 - categorical_accuracy: 0.8953 - val_loss: 0.2786 - val_categorical_accuracy: 0.9216\n",
            "Epoch 2/10\n",
            "794/794 [==============================] - 6s 8ms/step - loss: 0.3384 - categorical_accuracy: 0.8965 - val_loss: 0.2742 - val_categorical_accuracy: 0.9255\n",
            "Epoch 3/10\n",
            "794/794 [==============================] - 6s 7ms/step - loss: 0.3394 - categorical_accuracy: 0.8977 - val_loss: 0.2749 - val_categorical_accuracy: 0.9270\n",
            "Epoch 4/10\n",
            "794/794 [==============================] - 6s 8ms/step - loss: 0.3378 - categorical_accuracy: 0.8983 - val_loss: 0.2766 - val_categorical_accuracy: 0.9236\n",
            "Epoch 5/10\n",
            "794/794 [==============================] - 6s 7ms/step - loss: 0.3384 - categorical_accuracy: 0.8981 - val_loss: 0.2757 - val_categorical_accuracy: 0.9273\n",
            "Epoch 6/10\n",
            "794/794 [==============================] - 6s 7ms/step - loss: 0.3391 - categorical_accuracy: 0.8991 - val_loss: 0.2743 - val_categorical_accuracy: 0.9268\n",
            "Epoch 7/10\n",
            "794/794 [==============================] - 6s 7ms/step - loss: 0.3370 - categorical_accuracy: 0.8995 - val_loss: 0.2747 - val_categorical_accuracy: 0.9245\n",
            "Epoch 8/10\n",
            "794/794 [==============================] - 6s 7ms/step - loss: 0.3340 - categorical_accuracy: 0.9010 - val_loss: 0.2769 - val_categorical_accuracy: 0.9250\n",
            "Epoch 9/10\n",
            "794/794 [==============================] - 6s 7ms/step - loss: 0.3351 - categorical_accuracy: 0.9005 - val_loss: 0.2766 - val_categorical_accuracy: 0.9229\n",
            "Epoch 10/10\n",
            "794/794 [==============================] - 6s 7ms/step - loss: 0.3361 - categorical_accuracy: 0.9000 - val_loss: 0.2746 - val_categorical_accuracy: 0.9280\n"
          ]
        }
      ],
      "source": [
        "epochs = 10\n",
        "# Fit the model using the train and test datasets.\n",
        "#history = model.fit(x_train, train_labels,validation_data= (x_test,test_labels),epochs=epochs )\n",
        "history = model.fit(train_ds.shuffle(2000).batch(64), epochs= epochs, validation_data=valid_ds.batch(64), verbose=1)"
      ]
    },
    {
      "cell_type": "code",
      "execution_count": null,
      "metadata": {
        "colab": {
          "base_uri": "https://localhost:8080/"
        },
        "id": "WnTS4t8LQqGK",
        "outputId": "a2b04117-f868-4e63-de5d-66d92d4ed274"
      },
      "outputs": [
        {
          "data": {
            "text/plain": [
              "{'categorical_accuracy': [0.8952542543411255,\n",
              "  0.8965347409248352,\n",
              "  0.897716760635376,\n",
              "  0.8982880711555481,\n",
              "  0.8981107473373413,\n",
              "  0.8990563750267029,\n",
              "  0.8994700908660889,\n",
              "  0.9010263681411743,\n",
              "  0.9004944562911987,\n",
              "  0.9000019431114197],\n",
              " 'loss': [0.3441896438598633,\n",
              "  0.3384419083595276,\n",
              "  0.3394183814525604,\n",
              "  0.33780497312545776,\n",
              "  0.33843496441841125,\n",
              "  0.33907219767570496,\n",
              "  0.3370300829410553,\n",
              "  0.3340148627758026,\n",
              "  0.3351212441921234,\n",
              "  0.3361109793186188],\n",
              " 'val_categorical_accuracy': [0.9216451048851013,\n",
              "  0.9255450963973999,\n",
              "  0.9269633293151855,\n",
              "  0.923595130443573,\n",
              "  0.9273178577423096,\n",
              "  0.9267860054969788,\n",
              "  0.9244814515113831,\n",
              "  0.9250133037567139,\n",
              "  0.9228860139846802,\n",
              "  0.9280269742012024],\n",
              " 'val_loss': [0.2785949110984802,\n",
              "  0.2742196023464203,\n",
              "  0.27492424845695496,\n",
              "  0.27661535143852234,\n",
              "  0.275704562664032,\n",
              "  0.27428606152534485,\n",
              "  0.2746559679508209,\n",
              "  0.27688631415367126,\n",
              "  0.2766024172306061,\n",
              "  0.2745830714702606]}"
            ]
          },
          "execution_count": 68,
          "metadata": {},
          "output_type": "execute_result"
        }
      ],
      "source": [
        "history.history\n"
      ]
    },
    {
      "cell_type": "code",
      "execution_count": null,
      "metadata": {
        "colab": {
          "base_uri": "https://localhost:8080/",
          "height": 295
        },
        "id": "GNFMsqHCQqGK",
        "outputId": "ea5a5de6-058b-4074-87ca-078971e4157a"
      },
      "outputs": [
        {
          "data": {
            "image/png": "[encoded data removed]",
            "text/plain": [
              "<Figure size 432x288 with 1 Axes>"
            ]
          },
          "metadata": {
            "needs_background": "light"
          },
          "output_type": "display_data"
        }
      ],
      "source": [
        "\n",
        "plt.plot(history.history['loss'], label=' training data')\n",
        "plt.plot(history.history['val_loss'], label='validation data)')\n",
        "plt.title('Loss for Text Classification')\n",
        "plt.ylabel('Loss value')\n",
        "plt.xlabel('No. epoch')\n",
        "plt.legend(loc=\"upper left\")\n",
        "plt.show()"
      ]
    },
    {
      "cell_type": "code",
      "execution_count": null,
      "metadata": {
        "colab": {
          "base_uri": "https://localhost:8080/",
          "height": 295
        },
        "id": "hgkolu5sQqGK",
        "outputId": "fe884fc4-b3e7-4075-e269-a937e6289512"
      },
      "outputs": [
        {
          "data": {
            "image/png": "[encoded data removed]",
            "text/plain": [
              "<Figure size 432x288 with 1 Axes>"
            ]
          },
          "metadata": {
            "needs_background": "light"
          },
          "output_type": "display_data"
        }
      ],
      "source": [
        "\n",
        "\n",
        "plt.plot(history.history['categorical_accuracy'], label=' (training data)')\n",
        "plt.plot(history.history['val_categorical_accuracy'], label='CategoricalCrossentropy (validation data)')\n",
        "plt.title('CategoricalAccuracy for Text Classification')\n",
        "plt.ylabel('CategoricalAccuracy value')\n",
        "plt.xlabel('No. epoch')\n",
        "plt.legend(loc=\"upper left\")\n",
        "plt.show()\n"
      ]
    },
    {
      "cell_type": "markdown",
      "metadata": {
        "id": "IYalwD-KQqGK"
      },
      "source": [
        "Lets save our model and tokenizer"
      ]
    },
    {
      "cell_type": "markdown",
      "metadata": {
        "id": "LAZsQYgHQqGK"
      },
      "source": [
        "Lets load our model and test on test data"
      ]
    },
    {
      "cell_type": "code",
      "execution_count": null,
      "metadata": {
        "colab": {
          "base_uri": "https://localhost:8080/"
        },
        "id": "aV0aKrvGQqGL",
        "outputId": "d537bdf9-9517-4722-8b5e-2901c87d958e"
      },
      "outputs": [
        {
          "name": "stderr",
          "output_type": "stream",
          "text": [
            "/usr/local/lib/python3.7/dist-packages/ipykernel_launcher.py:1: VisibleDeprecationWarning: Creating an ndarray from ragged nested sequences (which is a list-or-tuple of lists-or-tuples-or ndarrays with different lengths or shapes) is deprecated. If you meant to do this, you must specify 'dtype=object' when creating the ndarray.\n",
            "  \"\"\"Entry point for launching an IPython kernel.\n"
          ]
        }
      ],
      "source": [
        "x_test  = np.array( tokenizer.texts_to_sequences(test_data['text'].tolist()) )\n",
        "x_test = pad_sequences(x_test, padding='post', maxlen=1000)"
      ]
    },
    {
      "cell_type": "code",
      "execution_count": null,
      "metadata": {
        "colab": {
          "base_uri": "https://localhost:8080/"
        },
        "id": "ouKvFh6Fs3OC",
        "outputId": "ed1278de-5671-4159-beb0-f2afb3e5a00d"
      },
      "outputs": [
        {
          "data": {
            "text/plain": [
              "array([[    1,     1,     1, ...,     0,     0,     0],\n",
              "       [ 8052,   176,  2696, ...,     0,     0,     0],\n",
              "       [    2,  1158,    17, ...,     0,     0,     0],\n",
              "       ...,\n",
              "       [    2,   433,     2, ...,     0,     0,     0],\n",
              "       [ 1087,   110, 11248, ...,     0,     0,     0],\n",
              "       [  120,   110, 14556, ...,     0,     0,     0]], dtype=int32)"
            ]
          },
          "execution_count": 39,
          "metadata": {},
          "output_type": "execute_result"
        }
      ],
      "source": [
        "#train_data['text']\n",
        "x_test"
      ]
    },
    {
      "cell_type": "code",
      "execution_count": null,
      "metadata": {
        "colab": {
          "base_uri": "https://localhost:8080/"
        },
        "id": "81tfY4j0QqGL",
        "outputId": "c5758330-0e44-4b37-8332-25f963fd92b4"
      },
      "outputs": [
        {
          "name": "stdout",
          "output_type": "stream",
          "text": [
            "Generate predictions for all samples\n",
            "[[0.33029008 0.6354584 ]\n",
            " [0.71636975 0.24731188]\n",
            " [0.28308743 0.6786626 ]\n",
            " ...\n",
            " [0.16388302 0.78909206]\n",
            " [0.46675372 0.44917226]\n",
            " [0.91575533 0.09401751]]\n"
          ]
        }
      ],
      "source": [
        "\n",
        "# Generate predictions (probabilities -- the output of the last layer)\n",
        "# on test  data using `predict`\n",
        "print(\"Generate predictions for all samples\")\n",
        "predictions = model.predict(x_test)\n",
        "print(predictions)\n",
        "predict_results = predictions.argmax(axis=1)\n"
      ]
    },
    {
      "cell_type": "code",
      "execution_count": null,
      "metadata": {
        "colab": {
          "base_uri": "https://localhost:8080/"
        },
        "id": "F__jEwqespGj",
        "outputId": "198a9809-35bd-4dbf-a932-fe36aaaf76dd"
      },
      "outputs": [
        {
          "name": "stdout",
          "output_type": "stream",
          "text": [
            "[[    1     1     1 ...     0     0     0]\n",
            " [ 8052   176  2696 ...     0     0     0]\n",
            " [    2  1158    17 ...     0     0     0]\n",
            " ...\n",
            " [    2   433     2 ...     0     0     0]\n",
            " [ 1087   110 11248 ...     0     0     0]\n",
            " [  120   110 14556 ...     0     0     0]]\n"
          ]
        }
      ],
      "source": [
        "print(x_test)"
      ]
    },
    {
      "cell_type": "code",
      "execution_count": null,
      "metadata": {
        "id": "beXKWaRXQqGL"
      },
      "outputs": [],
      "source": [
        "test_data['pred_sentiment']= predict_results\n",
        "\n",
        "test_data['pred_sentiment'] = np.where((test_data.pred_sentiment == 0),0.0,test_data.pred_sentiment)\n",
        "test_data['pred_sentiment'] = np.where((test_data.pred_sentiment == 1),1.0,test_data.pred_sentiment)\n",
        "#test_data['pred_sentiment'] = np.where((test_data.pred_sentiment == '2'),'positive',test_data.pred_sentiment)"
      ]
    },
    {
      "cell_type": "code",
      "execution_count": null,
      "metadata": {
        "colab": {
          "base_uri": "https://localhost:8080/"
        },
        "id": "kH1W04Art33C",
        "outputId": "141e338e-82dc-44d0-a149-4010daf8eaca"
      },
      "outputs": [
        {
          "data": {
            "text/plain": [
              "62950    1.0\n",
              "5429     0.0\n",
              "25265    1.0\n",
              "46840    1.0\n",
              "12823    1.0\n",
              "        ... \n",
              "70400    1.0\n",
              "20921    0.0\n",
              "44854    1.0\n",
              "67693    0.0\n",
              "71639    0.0\n",
              "Name: pred_sentiment, Length: 14287, dtype: float64"
            ]
          },
          "execution_count": 44,
          "metadata": {},
          "output_type": "execute_result"
        }
      ],
      "source": [
        "test_data['pred_sentiment']"
      ]
    },
    {
      "cell_type": "code",
      "execution_count": null,
      "metadata": {
        "colab": {
          "base_uri": "https://localhost:8080/"
        },
        "id": "RYcbMVOBQqGL",
        "outputId": "eb9337c6-1920-4504-c62a-e3749b7d9e35"
      },
      "outputs": [
        {
          "name": "stdout",
          "output_type": "stream",
          "text": [
            "              precision    recall  f1-score   support\n",
            "\n",
            "           0       0.65      0.72      0.68      7080\n",
            "           1       0.69      0.62      0.66      7207\n",
            "\n",
            "    accuracy                           0.67     14287\n",
            "   macro avg       0.67      0.67      0.67     14287\n",
            "weighted avg       0.67      0.67      0.67     14287\n",
            "\n"
          ]
        }
      ],
      "source": [
        "labels = [0, 1]\n",
        "    \n",
        "print(classification_report(test_data['label'].tolist(),test_data['pred_sentiment'].tolist(),labels=labels))"
      ]
    },
    {
      "cell_type": "code",
      "execution_count": null,
      "metadata": {
        "id": "qdSKV1foQqGL"
      },
      "outputs": [],
      "source": []
    }
  ],
  "metadata": {
    "colab": {
      "name": "CNN.ipynb",
      "provenance": []
    },
    "kernelspec": {
      "display_name": "Python 3",
      "name": "python3"
    },
    "language_info": {
      "name": "python"
    }
  },
  "nbformat": 4,
  "nbformat_minor": 0
}
